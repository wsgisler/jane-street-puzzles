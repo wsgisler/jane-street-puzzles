{
 "cells": [
  {
   "cell_type": "markdown",
   "metadata": {},
   "source": [
    "# Jane Street Puzzles - April 2020\n",
    "\n",
    "A solution by Walter Sebastian Gisler\n",
    "\n",
    "## Problem Statement\n",
    "\n",
    "Original source: https://www.janestreet.com/puzzles/current-puzzle/\n",
    "\n",
    "Consider an equilateral triangular grid of dots with N rows, such as the one presented here (with N = 22). A “triad” is a set of 3 dots where each dot in the triad borders the other two. The top two rows of the triangular grid form a triad; all triads are (rotations of) precisely this shape.\n",
    "\n",
    "For some values of N, it is possible to separate the triangular grid into disjoint triads such that every dot is a part of one triad. For example, it is obviously possible when N=2, but not when N=3 or N=4.\n",
    "\n",
    "What is the sum of all values of N < 40 for which it is possible?\n",
    "\n",
    "![Sample](triangular_2.png \"Sample triangle\")\n",
    "\n",
    "## Solution\n",
    "\n",
    "First of all, let's talk about representing the data here and let's write some code to display the solution in a Jupyter notebook. To represent a equilateral triangular grid, we can use a N x N matrix, which we will store in a dictionary for convenience. A 1 means that a dot is at a certain position, a 0 means, it isn't:"
   ]
  },
  {
   "cell_type": "code",
   "execution_count": 1,
   "metadata": {},
   "outputs": [],
   "source": [
    "def triangular(N):\n",
    "    return {(row,col): 1 if row >= col else 0 for row in range(N) for col in range(N)}"
   ]
  },
  {
   "cell_type": "markdown",
   "metadata": {},
   "source": [
    "Next, let's define a method to display a triangular with matplotlib. We also need a method (here, called calculate_coordinate) that will calculate the coordinate where each triangular point will be displayed."
   ]
  },
  {
   "cell_type": "code",
   "execution_count": 2,
   "metadata": {},
   "outputs": [],
   "source": [
    "import matplotlib.pyplot as plt\n",
    "\n",
    "def calculate_coordinate(N, row, col):\n",
    "    y = N-row\n",
    "    x = N/2-0.5*row+col\n",
    "    return (x,y)\n",
    "\n",
    "def draw_triangular(N, triangular, triads):\n",
    "    %matplotlib inline\n",
    "    xcords = []\n",
    "    ycords = []\n",
    "    for (row, col) in triangular:\n",
    "        if triangular[(row, col)] == 1:\n",
    "            (x,y) = calculate_coordinate(N, row, col)\n",
    "            xcords.append(x)\n",
    "            ycords.append(y)\n",
    "    plt.scatter(xcords,ycords)\n",
    "    for triad in triads:\n",
    "        triad.append(triad[0])\n",
    "        a = [calculate_coordinate(N, t[0], t[1]) for t in triad]\n",
    "        plt.plot(*zip(*a))\n",
    "    plt.show()"
   ]
  },
  {
   "cell_type": "markdown",
   "metadata": {},
   "source": [
    "We can test this with a N = 9 triangular and three triads:"
   ]
  },
  {
   "cell_type": "code",
   "execution_count": 3,
   "metadata": {},
   "outputs": [
    {
     "data": {
      "image/png": "[encoded data removed]",
      "text/plain": [
       "<Figure size 432x288 with 1 Axes>"
      ]
     },
     "metadata": {
      "needs_background": "light"
     },
     "output_type": "display_data"
    }
   ],
   "source": [
    "N = 9\n",
    "tri = triangular(N)\n",
    "draw_triangular(N, tri, [[(0,0), (1,0), (1,1)], [(2,2), (3,2), (3,3)], [[5,2], [5,3],[6,3]]])"
   ]
  },
  {
   "cell_type": "markdown",
   "metadata": {},
   "source": [
    "Next, we will need a method that can fill in as many triads as possible. We will use integer linear programming for this. For each point of the triangular, we are adding two variables. There are two types of triads. Triads pointing down (in the graphic above, the blue and orange triad) and triads pointing down (the green triad). For upward pointing triads, a binary variable on the upward pointing corner has to be 1, for downward pointing triads, the binary variable on the downward pointing corner has to be 1. We also need to add a requirement that a point can be part of at most one triad and we need to make sure that every point of the triad is part of the triangular."
   ]
  },
  {
   "cell_type": "code",
   "execution_count": 4,
   "metadata": {},
   "outputs": [],
   "source": [
    "from docplex.mp.model import Model\n",
    "\n",
    "def find_as_many_triads_as_possible(N, triangular):\n",
    "    model = Model()\n",
    "    \n",
    "    # Variable definition\n",
    "    tct = {(row,col): model.binary_var() if row >= col else 0 for row in range(N) for col in range(N)} # 1 = the point is the top corner of a triad\n",
    "    bct = {(row,col): model.binary_var() if row >= col else 0 for row in range(N) for col in range(N)} # 1 = the point is the bottom corner of a triad\n",
    "    \n",
    "    # a point can only be part of one triad:\n",
    "    for p in triangular:\n",
    "        if triangular[p] > 0:\n",
    "            all_adjacent_vars = [bct[p], tct[p]]\n",
    "            if p[0]-1 >= 0 and p[1]-1 >= 0:\n",
    "                all_adjacent_vars.append(tct[(p[0]-1, p[1]-1)])\n",
    "            if p[0]-1 >= 0:\n",
    "                all_adjacent_vars.append(tct[(p[0]-1, p[1])])\n",
    "            if p[0]+1 < N and p[1]+1 < N:\n",
    "                all_adjacent_vars.append(bct[(p[0]+1, p[1]+1)])\n",
    "            if p[0]+1 < N:\n",
    "                all_adjacent_vars.append(bct[(p[0]+1, p[1])])\n",
    "            model.add(model.sum(all_adjacent_vars) <= 1)\n",
    "    \n",
    "    # certain points can't be a triad corner\n",
    "    for p in triangular:\n",
    "        if p[1] == 0: # there can't be a bottom corner triad if c == 1:\n",
    "            model.add(bct[p] == 0)\n",
    "        if p[0] == p[1]: # there can't be a bottom corner triad if c == r\n",
    "            model.add(bct[p] == 0)\n",
    "        if p[0] == N-1: # there can't be a top corner triad if r == N \n",
    "            model.add(tct[p] == 0)\n",
    "            \n",
    "    # The corner triads are given\n",
    "    if N >= 2 and N != 3:\n",
    "        model.add(tct[(0,0)] == 1)\n",
    "        model.add(tct[(N-2,0)] == 1)\n",
    "        model.add(tct[(N-2,N-2)] == 1)\n",
    "            \n",
    "    # maximize the number of triads and solve\n",
    "    model.maximize(model.sum(tct[p] + bct[p] for p in triangular if triangular[p] > 0))\n",
    "    model.solve(log_output = False)\n",
    "    \n",
    "    # return the solution\n",
    "    result = []\n",
    "    for p in triangular:\n",
    "        if tct[p] and tct[p].solution_value >= 0.5:\n",
    "            result.append([p, (p[0]+1, p[1]), (p[0]+1, p[1]+1)])\n",
    "        if bct[p] and bct[p].solution_value >= 0.5:\n",
    "            result.append([p, (p[0]-1, p[1]-1), (p[0]-1, p[1])])\n",
    "    return result"
   ]
  },
  {
   "cell_type": "markdown",
   "metadata": {},
   "source": [
    "Let's try this method with a triangular of size 9 and verify the result visually"
   ]
  },
  {
   "cell_type": "code",
   "execution_count": 5,
   "metadata": {},
   "outputs": [
    {
     "data": {
      "image/png": "[encoded data removed]",
      "text/plain": [
       "<Figure size 432x288 with 1 Axes>"
      ]
     },
     "metadata": {
      "needs_background": "light"
     },
     "output_type": "display_data"
    }
   ],
   "source": [
    "N = 9\n",
    "tri = triangular(N)\n",
    "r = find_as_many_triads_as_possible(N, tri)\n",
    "draw_triangular(N, tri, r)"
   ]
  },
  {
   "cell_type": "markdown",
   "metadata": {},
   "source": [
    "In this example, all points are part of a triad. We can check whether this is true by checking if the number of triads multiplied by 3 is equal to the number of points in the triangular:"
   ]
  },
  {
   "cell_type": "code",
   "execution_count": 6,
   "metadata": {},
   "outputs": [
    {
     "name": "stdout",
     "output_type": "stream",
     "text": [
      "True\n"
     ]
    }
   ],
   "source": [
    "print(len(r)*3 == sum(tri.values()))"
   ]
  },
  {
   "cell_type": "markdown",
   "metadata": {},
   "source": [
    "Let's write a method that can tell us immediately if a triangular of size N can be split into disjoint triads such that every point is part of a triad:"
   ]
  },
  {
   "cell_type": "code",
   "execution_count": 7,
   "metadata": {},
   "outputs": [],
   "source": [
    "def good_triangular(N):\n",
    "    tri = triangular(N)\n",
    "    if sum(tri.values()) % 3 != 0: # if the number of points can't be divided by 3, it is obviously not possible\n",
    "        return False\n",
    "    r = find_as_many_triads_as_possible(N, tri)\n",
    "    return len(r)*3 == sum(tri.values())"
   ]
  },
  {
   "cell_type": "markdown",
   "metadata": {},
   "source": [
    "With this method, we can now iterate through triangulars of size < 40 to see how many of them are \"good\" triangulars:"
   ]
  },
  {
   "cell_type": "code",
   "execution_count": null,
   "metadata": {},
   "outputs": [
    {
     "name": "stdout",
     "output_type": "stream",
     "text": [
      "Triangular of size 1: False\n",
      "Triangular of size 2: True\n",
      "Triangular of size 3: False\n",
      "Triangular of size 4: False\n",
      "Triangular of size 5: False\n",
      "Triangular of size 6: False\n",
      "Triangular of size 7: False\n",
      "Triangular of size 8: False\n",
      "Triangular of size 9: True\n",
      "Triangular of size 10: False\n",
      "Triangular of size 11: True\n",
      "Triangular of size 12: True\n",
      "Triangular of size 13: False\n",
      "Triangular of size 14: True\n",
      "Triangular of size 15: False\n",
      "Triangular of size 16: False\n",
      "Triangular of size 17: False\n",
      "Triangular of size 18: False\n",
      "Triangular of size 19: False\n",
      "Triangular of size 20: False\n",
      "Triangular of size 21: True\n",
      "Triangular of size 22: False\n",
      "Triangular of size 23: True\n",
      "Triangular of size 24: True\n",
      "Triangular of size 25: False\n",
      "Triangular of size 26: True\n"
     ]
    }
   ],
   "source": [
    "count = 0\n",
    "\n",
    "for N in range(1,40):\n",
    "    good = good_triangular(N)\n",
    "    print('Triangular of size %i: %s'%(N, str(good)))\n",
    "    if good:\n",
    "        count += N\n",
    "        \n",
    "print()\n",
    "print('The answer is %i: '%count)"
   ]
  },
  {
   "cell_type": "markdown",
   "metadata": {},
   "source": [
    "There we go, the puzzle is solved. Interestingly, for some triangulars it took a bit longer time to solve this. Interesting to see how quickly this problem gets quite difficult.\n",
    "\n",
    "If we list the number of rows for equilateral triangulars that can be split into triads completely, we get the following sequence:\n",
    "\n",
    "``` 0,  2,  9, 11,\n",
    "12, 14, 21, 23,\n",
    "24, 26, 33, 35,\n",
    "36, 38, ...```\n",
    "\n",
    "At this point it is likely that the sequence continues as follows:\n",
    "\n",
    "\n",
    "```        45, 47, \n",
    "48, 50, 57, 59, \n",
    "60, 62, 69, 71, \n",
    "72, 74, 81, 83, \n",
    "84, 86, 93, 95, \n",
    "96, 98, 105, 107, \n",
    "108, 110, 117, 119,\n",
    "...```\n",
    "\n",
    "Sequences like this are usually listed in the online encyclopedia of integer sequences (OEIS). Indeed I was able to find this sequence with a reference to this exact problem: https://oeis.org/search?q=2%2C9%2C11%2C12%2C14%2C21%2C23%2C24%2C26&language=english&go=Search\n",
    "\n",
    "The OEIS is always a great resource for problems like these. Obviously, it would have been sufficient to only have the first couple of Ns and I could have found the result."
   ]
  },
  {
   "cell_type": "code",
   "execution_count": null,
   "metadata": {},
   "outputs": [],
   "source": []
  }
 ],
 "metadata": {
  "kernelspec": {
   "display_name": "Python 3",
   "language": "python",
   "name": "python3"
  },
  "language_info": {
   "codemirror_mode": {
    "name": "ipython",
    "version": 3
   },
   "file_extension": ".py",
   "mimetype": "text/x-python",
   "name": "python",
   "nbconvert_exporter": "python",
   "pygments_lexer": "ipython3",
   "version": "3.7.4"
  }
 },
 "nbformat": 4,
 "nbformat_minor": 4
}

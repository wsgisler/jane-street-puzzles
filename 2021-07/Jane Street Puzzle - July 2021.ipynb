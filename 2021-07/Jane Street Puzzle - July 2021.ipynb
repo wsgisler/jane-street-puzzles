{
 "cells": [
  {
   "cell_type": "markdown",
   "metadata": {},
   "source": [
    "# Problem statement\n",
    "\n",
    "The original problem statement can be found here: https://www.janestreet.com/puzzles/archive/\n",
    "\n",
    "![Problem statement](2021-07-01-its-symmetric-2.png)\n",
    "\n",
    "Shade some of the cells in the grid above so that the region of shaded cells is connected and symmetric in some way (either by rotation or reflection). Some of the cells have been numbered. These cells are in the shaded region, and the numbers denote the products of the number of shaded cells one can “see” within the region, in each of the 4 cardinal directions, before encountering an unshaded cell. (As in the example, above.)\n",
    "\n",
    "The answer to this puzzle is the sum of the squares of the areas of connected unshaded squares in the completed grid."
   ]
  },
  {
   "cell_type": "code",
   "execution_count": 1,
   "metadata": {},
   "outputs": [],
   "source": [
    "grid = {(1,5): 21, (1,11): 27, (2,2): 24, (2,6): 8, (3,0): 3, (3,8): 24, (4,12): 28, (5,1): 3, (5,7): 6, (6,4): 8, (6,8): 5, (7,5): 30, (7,11): 2, (8,0): 24, (9,4): 16, (9,12): 2, (10,6): 24, (10,10): 70, (11,1): 8, (11,7): 6}"
   ]
  },
  {
   "cell_type": "code",
   "execution_count": 2,
   "metadata": {},
   "outputs": [],
   "source": [
    "shadings = {21: [[3,7], [3,7,1], [3,7,1,1]], \n",
    "            27: [[3,3,3], [3,3,3,1], [3,9], [3,9,1], [3,9,1,1]],\n",
    "            24: [[2,2,2,3], [4,2,3], [4,2,3,1], [8,3], [8,3,1], [8,3,1,1], [6,2,2], [6,2,2,1], [12,2], [12,2,1], [12,2,1,1], [6,4], [6,4,1], [6,4,1,1]],\n",
    "            8:  [[2,2,2], [2,2,2,1], [4,2], [4,2,1], [4,2,1,1], [8], [8,1], [8,1,1], [8,1,1,1]],\n",
    "            3:  [[3], [3,1], [3,1,1], [3,1,1,1]],\n",
    "            28: [[2,2,7], [2,2,7,1], [4,7], [4,7,1], [4,7,1,1]],\n",
    "            6:  [[2,3], [2,3,1], [2,3,1,1], [6], [6,1], [6,1,1], [6,1,1,1]],\n",
    "            5:  [[5], [5,1], [5,1,1], [5,1,1,1]],\n",
    "            30: [[2,3,5], [2,3,5,1], [6,5], [6,5,1], [6,5,1,1]],\n",
    "            2: [[2], [2,1], [2,1,1], [2,1,1,1]],\n",
    "            16: [[2,2,2,2], [4,2,2], [4,2,2,1], [4,4], [4,4,1], [4,4,1,1], [8,2], [8,2,1], [8,2,1,1]],\n",
    "            70: [[7,2,5], [7,2,5,1], [10,7], [10,7,1], [10,7,1,1]]\n",
    "            }"
   ]
  },
  {
   "cell_type": "code",
   "execution_count": 3,
   "metadata": {},
   "outputs": [],
   "source": [
    "from ipycanvas import Canvas"
   ]
  },
  {
   "cell_type": "code",
   "execution_count": 4,
   "metadata": {},
   "outputs": [
    {
     "name": "stdout",
     "output_type": "stream",
     "text": [
      "{21: {(7, 3, 1, 0), (7, 0, 0, 3), (3, 1, 1, 7), (0, 0, 3, 7), (3, 7, 0, 1), (7, 3, 0, 0), (0, 3, 1, 7), (1, 3, 7, 0), (1, 7, 3, 0), (3, 1, 7, 1), (1, 3, 0, 7), (0, 7, 1, 3), (7, 1, 1, 3), (0, 3, 0, 7), (3, 0, 7, 1), (7, 0, 3, 0), (1, 7, 0, 3), (3, 7, 1, 0), (7, 3, 1, 1), (1, 3, 1, 7), (3, 7, 0, 0), (1, 1, 7, 3), (7, 0, 1, 3), (1, 0, 3, 7), (0, 3, 7, 0), (1, 7, 3, 1), (1, 3, 7, 1), (7, 1, 3, 0), (1, 0, 7, 3), (0, 0, 7, 3), (3, 0, 1, 7), (3, 0, 7, 0), (0, 1, 3, 7), (3, 7, 1, 1), (7, 1, 0, 3), (0, 3, 7, 1), (0, 7, 3, 1), (7, 3, 0, 1), (0, 1, 7, 3), (3, 0, 0, 7), (3, 1, 7, 0), (7, 1, 3, 1), (1, 1, 3, 7), (0, 7, 0, 3), (3, 1, 0, 7), (1, 7, 1, 3), (7, 0, 3, 1), (0, 7, 3, 0)}, 27: {(0, 9, 1, 3), (0, 1, 9, 3), (9, 3, 0, 1), (3, 1, 9, 1), (0, 3, 9, 1), (3, 9, 1, 1), (3, 0, 3, 3), (9, 1, 0, 3), (1, 9, 1, 3), (1, 1, 9, 3), (9, 1, 3, 1), (1, 3, 1, 9), (1, 9, 3, 0), (0, 3, 3, 3), (0, 3, 1, 9), (3, 0, 9, 1), (1, 0, 9, 3), (3, 1, 0, 9), (1, 3, 3, 3), (9, 0, 3, 1), (9, 3, 1, 0), (9, 3, 0, 0), (0, 3, 9, 0), (9, 0, 0, 3), (3, 3, 1, 3), (1, 9, 0, 3), (3, 9, 0, 1), (1, 9, 3, 1), (3, 0, 9, 0), (3, 3, 3, 0), (0, 9, 3, 1), (9, 0, 3, 0), (3, 1, 1, 9), (0, 9, 0, 3), (9, 3, 1, 1), (1, 1, 3, 9), (1, 3, 0, 9), (0, 0, 3, 9), (1, 3, 9, 0), (3, 0, 0, 9), (0, 1, 3, 9), (9, 1, 1, 3), (3, 9, 1, 0), (3, 1, 9, 0), (3, 9, 0, 0), (9, 1, 3, 0), (3, 3, 0, 3), (9, 0, 1, 3), (0, 0, 9, 3), (3, 3, 3, 1), (0, 9, 3, 0), (1, 0, 3, 9), (0, 3, 0, 9), (3, 1, 3, 3), (3, 0, 1, 9), (1, 3, 9, 1)}, 24: {(3, 4, 0, 2), (4, 1, 2, 3), (1, 1, 6, 4), (8, 0, 3, 1), (0, 1, 6, 4), (1, 4, 2, 3), (0, 2, 12, 1), (1, 1, 2, 12), (1, 8, 1, 3), (2, 6, 1, 2), (6, 0, 4, 1), (4, 1, 0, 6), (4, 3, 1, 2), (0, 8, 0, 3), (4, 1, 6, 0), (2, 2, 3, 2), (4, 6, 1, 1), (12, 1, 2, 1), (0, 6, 4, 0), (1, 12, 1, 2), (3, 2, 4, 1), (0, 0, 4, 6), (0, 12, 0, 2), (6, 0, 0, 4), (12, 1, 0, 2), (1, 1, 8, 3), (2, 1, 6, 2), (3, 2, 0, 4), (0, 3, 1, 8), (1, 6, 2, 2), (4, 0, 6, 0), (6, 4, 0, 0), (1, 2, 12, 1), (2, 12, 1, 0), (1, 3, 4, 2), (0, 1, 8, 3), (3, 1, 1, 8), (2, 0, 4, 3), (0, 2, 3, 4), (3, 2, 2, 2), (2, 1, 12, 1), (1, 6, 0, 4), (8, 3, 1, 1), (12, 0, 0, 2), (4, 1, 3, 2), (12, 2, 1, 0), (2, 0, 6, 2), (3, 0, 8, 1), (1, 8, 0, 3), (2, 6, 2, 0), (0, 4, 6, 0), (4, 1, 1, 6), (0, 6, 1, 4), (1, 4, 3, 2), (0, 8, 1, 3), (8, 0, 0, 3), (6, 2, 2, 1), (2, 3, 4, 1), (6, 0, 1, 4), (4, 0, 3, 2), (4, 3, 2, 1), (2, 2, 2, 3), (3, 0, 4, 2), (3, 0, 2, 4), (0, 1, 3, 8), (4, 6, 0, 0), (1, 12, 2, 1), (4, 2, 0, 3), (1, 0, 6, 4), (8, 1, 3, 1), (6, 1, 4, 0), (0, 4, 3, 2), (1, 6, 1, 4), (2, 0, 1, 12), (3, 1, 4, 2), (8, 3, 0, 1), (2, 12, 0, 1), (1, 0, 12, 2), (1, 0, 2, 12), (0, 3, 8, 0), (0, 1, 2, 12), (0, 6, 0, 4), (12, 2, 0, 1), (0, 2, 12, 0), (8, 0, 1, 3), (3, 8, 0, 0), (0, 2, 2, 6), (0, 2, 0, 12), (1, 2, 6, 2), (3, 1, 0, 8), (0, 1, 4, 6), (6, 0, 4, 0), (4, 1, 6, 1), (6, 2, 1, 2), (0, 6, 2, 2), (1, 4, 6, 0), (1, 1, 12, 2), (1, 2, 4, 3), (2, 4, 0, 3), (1, 8, 3, 1), (0, 12, 2, 1), (4, 0, 2, 3), (4, 2, 1, 3), (2, 2, 1, 6), (1, 2, 0, 12), (2, 0, 2, 6), (4, 2, 3, 0), (2, 0, 0, 12), (2, 12, 1, 1), (1, 3, 0, 8), (12, 0, 2, 1), (0, 0, 2, 12), (0, 4, 2, 3), (8, 3, 1, 0), (2, 3, 2, 2), (3, 4, 1, 2), (1, 3, 2, 4), (12, 2, 1, 1), (0, 8, 3, 0), (1, 6, 4, 0), (6, 1, 1, 4), (2, 3, 0, 4), (6, 2, 2, 0), (4, 3, 0, 2), (3, 8, 1, 1), (2, 4, 1, 3), (0, 0, 8, 3), (2, 6, 0, 2), (2, 1, 3, 4), (1, 1, 3, 8), (2, 0, 12, 1), (1, 12, 0, 2), (0, 0, 3, 8), (2, 4, 3, 0), (3, 0, 0, 8), (0, 12, 1, 2), (2, 2, 0, 6), (0, 3, 2, 4), (1, 3, 8, 1), (1, 2, 1, 12), (3, 1, 8, 1), (4, 0, 1, 6), (12, 1, 1, 2), (0, 2, 4, 3), (2, 2, 6, 1), (8, 1, 3, 0), (6, 4, 1, 0), (3, 4, 2, 0), (6, 1, 4, 1), (1, 1, 4, 6), (0, 2, 6, 2), (8, 1, 1, 3), (2, 12, 0, 0), (0, 3, 8, 1), (12, 0, 1, 2), (6, 1, 0, 4), (8, 0, 3, 0), (3, 1, 2, 4), (1, 4, 0, 6), (2, 3, 1, 4), (0, 4, 1, 6), (12, 2, 0, 0), (1, 3, 1, 8), (3, 8, 0, 1), (1, 0, 8, 3), (6, 1, 2, 2), (1, 4, 6, 1), (0, 0, 6, 4), (1, 2, 2, 6), (1, 8, 3, 0), (4, 6, 1, 0), (0, 12, 2, 0), (2, 1, 4, 3), (12, 1, 2, 0), (0, 6, 4, 1), (2, 1, 2, 6), (2, 1, 0, 12), (3, 2, 4, 0), (4, 0, 0, 6), (0, 2, 1, 12), (6, 0, 2, 2), (0, 1, 12, 2), (4, 0, 6, 1), (4, 2, 3, 1), (1, 0, 3, 8), (8, 1, 0, 3), (6, 4, 0, 1), (1, 2, 12, 0), (3, 0, 1, 8), (12, 0, 2, 0), (1, 4, 1, 6), (2, 1, 12, 0), (0, 4, 0, 6), (0, 8, 3, 1), (0, 0, 12, 2), (1, 6, 4, 1), (3, 0, 8, 0), (2, 6, 2, 1), (0, 4, 6, 1), (0, 3, 4, 2), (3, 8, 1, 0), (0, 3, 0, 8), (2, 3, 4, 0), (6, 2, 0, 2), (4, 3, 2, 0), (2, 0, 12, 0), (2, 1, 1, 12), (2, 4, 3, 1), (4, 6, 0, 1), (1, 3, 8, 0), (1, 0, 4, 6), (1, 12, 2, 0), (3, 1, 8, 0), (1, 2, 3, 4), (2, 2, 6, 0), (6, 4, 1, 1), (3, 4, 2, 1), (2, 0, 3, 4), (8, 3, 0, 0), (3, 2, 1, 4)}, 8: {(2, 0, 4, 1), (1, 0, 1, 8), (1, 4, 0, 2), (0, 2, 0, 4), (1, 4, 1, 2), (4, 1, 2, 0), (0, 4, 1, 2), (0, 4, 0, 2), (8, 0, 1, 1), (1, 8, 0, 1), (0, 8, 1, 0), (1, 0, 8, 1), (2, 1, 1, 4), (0, 8, 0, 0), (0, 0, 8, 0), (0, 1, 1, 8), (1, 1, 0, 8), (1, 2, 4, 1), (2, 4, 1, 0), (2, 1, 2, 2), (2, 4, 0, 0), (2, 2, 2, 1), (4, 0, 2, 0), (2, 1, 4, 1), (1, 2, 0, 4), (2, 0, 0, 4), (0, 0, 0, 8), (4, 2, 0, 1), (0, 0, 2, 4), (8, 1, 0, 0), (0, 2, 1, 4), (8, 1, 1, 0), (2, 0, 2, 2), (0, 4, 2, 0), (0, 2, 2, 2), (1, 4, 2, 1), (8, 0, 1, 0), (0, 1, 4, 2), (0, 1, 2, 4), (8, 0, 0, 0), (1, 0, 8, 0), (1, 8, 0, 0), (1, 8, 1, 0), (0, 8, 0, 1), (0, 0, 8, 1), (1, 2, 4, 0), (2, 4, 0, 1), (1, 0, 4, 2), (4, 0, 2, 1), (2, 1, 4, 0), (0, 1, 0, 8), (2, 2, 1, 2), (1, 0, 0, 8), (2, 2, 0, 2), (0, 0, 4, 2), (4, 2, 1, 1), (1, 1, 8, 0), (0, 2, 4, 0), (0, 1, 8, 1), (8, 1, 1, 1), (0, 0, 1, 8), (1, 1, 4, 2), (2, 0, 4, 0), (0, 4, 2, 1), (1, 1, 1, 8), (4, 1, 2, 1), (1, 4, 2, 0), (0, 8, 1, 1), (4, 1, 0, 2), (8, 0, 0, 1), (4, 1, 1, 2), (1, 8, 1, 1), (2, 1, 0, 4), (2, 4, 1, 1), (1, 1, 2, 4), (2, 2, 2, 0), (1, 2, 2, 2), (4, 0, 1, 2), (4, 0, 0, 2), (4, 2, 1, 0), (1, 1, 8, 1), (2, 0, 1, 4), (4, 2, 0, 0), (0, 2, 4, 1), (1, 2, 1, 4), (8, 1, 0, 1), (1, 0, 2, 4), (0, 1, 8, 0)}, 3: {(3, 0, 1, 1), (0, 3, 0, 0), (0, 0, 1, 3), (3, 1, 1, 0), (0, 3, 1, 0), (0, 1, 3, 0), (3, 1, 0, 0), (1, 3, 0, 1), (0, 0, 3, 1), (3, 0, 0, 1), (1, 1, 0, 3), (1, 0, 3, 0), (1, 1, 3, 1), (0, 1, 1, 3), (1, 3, 1, 1), (1, 1, 1, 3), (0, 3, 1, 1), (0, 1, 3, 1), (3, 1, 0, 1), (0, 0, 3, 0), (0, 1, 0, 3), (3, 0, 0, 0), (1, 0, 3, 1), (3, 0, 1, 0), (0, 3, 0, 1), (1, 3, 1, 0), (1, 1, 3, 0), (3, 1, 1, 1), (1, 0, 1, 3), (1, 3, 0, 0), (0, 0, 0, 3), (1, 0, 0, 3)}, 28: {(2, 7, 1, 2), (1, 4, 1, 7), (0, 7, 4, 0), (4, 7, 0, 1), (7, 0, 0, 4), (1, 4, 0, 7), (2, 2, 0, 7), (0, 4, 0, 7), (0, 0, 4, 7), (1, 0, 4, 7), (1, 7, 4, 1), (2, 2, 7, 1), (2, 2, 1, 7), (0, 4, 7, 1), (0, 4, 1, 7), (7, 2, 2, 1), (0, 2, 2, 7), (7, 1, 2, 2), (0, 7, 1, 4), (7, 4, 1, 1), (4, 1, 7, 0), (1, 1, 4, 7), (1, 2, 2, 7), (7, 1, 1, 4), (0, 7, 2, 2), (1, 4, 7, 1), (0, 0, 7, 4), (2, 1, 2, 7), (0, 7, 4, 1), (7, 2, 0, 2), (1, 7, 4, 0), (1, 1, 7, 4), (7, 2, 1, 2), (4, 7, 1, 1), (7, 1, 4, 1), (4, 0, 7, 0), (7, 4, 0, 0), (7, 0, 4, 0), (4, 1, 1, 7), (2, 1, 7, 2), (7, 4, 1, 0), (2, 7, 2, 0), (1, 7, 0, 4), (4, 1, 0, 7), (1, 2, 7, 2), (2, 0, 2, 7), (0, 2, 7, 2), (0, 7, 0, 4), (7, 0, 1, 4), (1, 4, 7, 0), (0, 1, 7, 4), (2, 0, 7, 2), (4, 7, 0, 0), (4, 0, 0, 7), (4, 7, 1, 0), (7, 1, 4, 0), (2, 2, 7, 0), (0, 4, 7, 0), (1, 0, 7, 4), (1, 7, 2, 2), (4, 0, 7, 1), (4, 0, 1, 7), (7, 2, 2, 0), (7, 4, 0, 1), (7, 0, 4, 1), (2, 7, 2, 1), (0, 1, 4, 7), (7, 0, 2, 2), (7, 1, 0, 4), (1, 7, 1, 4), (4, 1, 7, 1), (2, 7, 0, 2)}, 6: {(1, 3, 2, 1), (3, 1, 2, 0), (1, 0, 3, 2), (0, 6, 1, 0), (6, 1, 1, 1), (0, 6, 0, 0), (2, 3, 1, 1), (1, 1, 0, 6), (0, 1, 3, 2), (1, 1, 3, 2), (2, 1, 1, 3), (0, 1, 0, 6), (0, 0, 6, 1), (6, 0, 0, 1), (0, 0, 3, 2), (0, 3, 2, 1), (1, 0, 6, 0), (1, 0, 0, 6), (2, 0, 0, 3), (0, 0, 1, 6), (2, 0, 3, 1), (3, 2, 0, 1), (0, 2, 0, 3), (1, 6, 1, 1), (0, 2, 3, 1), (3, 1, 2, 1), (0, 1, 6, 1), (1, 1, 1, 6), (1, 3, 1, 2), (6, 1, 0, 1), (1, 1, 6, 0), (1, 3, 0, 2), (2, 3, 0, 1), (2, 1, 0, 3), (0, 6, 0, 1), (1, 1, 2, 3), (6, 0, 1, 1), (2, 1, 3, 0), (3, 0, 2, 1), (1, 2, 3, 0), (2, 0, 1, 3), (0, 3, 2, 0), (0, 0, 2, 3), (3, 0, 0, 2), (1, 2, 1, 3), (3, 0, 1, 2), (2, 0, 3, 0), (3, 2, 0, 0), (0, 2, 1, 3), (3, 2, 1, 0), (1, 6, 0, 1), (1, 0, 2, 3), (1, 3, 2, 0), (0, 2, 3, 0), (0, 1, 6, 0), (3, 1, 1, 2), (6, 1, 0, 0), (1, 1, 6, 1), (3, 1, 0, 2), (2, 3, 0, 0), (0, 6, 1, 1), (6, 1, 1, 0), (2, 3, 1, 0), (0, 1, 2, 3), (6, 0, 1, 0), (0, 0, 6, 0), (0, 3, 0, 2), (2, 1, 3, 1), (6, 0, 0, 0), (0, 3, 1, 2), (3, 0, 2, 0), (0, 1, 1, 6), (1, 2, 3, 1), (1, 0, 6, 1), (1, 2, 0, 3), (1, 0, 1, 6), (3, 2, 1, 1), (1, 6, 0, 0), (0, 0, 0, 6), (1, 6, 1, 0)}, 5: {(1, 5, 1, 1), (0, 0, 5, 1), (5, 1, 0, 1), (0, 5, 1, 0), (0, 1, 1, 5), (5, 0, 0, 0), (1, 0, 5, 1), (5, 0, 1, 0), (1, 5, 1, 0), (1, 0, 0, 5), (1, 1, 5, 0), (5, 1, 1, 1), (1, 5, 0, 0), (0, 5, 1, 1), (0, 1, 5, 1), (0, 0, 5, 0), (0, 1, 0, 5), (1, 1, 0, 5), (0, 5, 0, 1), (5, 0, 1, 1), (0, 0, 0, 5), (5, 1, 1, 0), (1, 5, 0, 1), (5, 1, 0, 0), (5, 0, 0, 1), (1, 1, 1, 5), (1, 0, 5, 0), (1, 1, 5, 1), (0, 5, 0, 0), (0, 0, 1, 5), (1, 0, 1, 5), (0, 1, 5, 0)}, 30: {(6, 1, 0, 5), (5, 6, 0, 1), (0, 6, 0, 5), (0, 1, 5, 6), (2, 5, 3, 0), (1, 6, 5, 0), (0, 6, 1, 5), (3, 5, 1, 2), (6, 5, 0, 0), (6, 0, 1, 5), (5, 1, 6, 1), (5, 2, 3, 1), (3, 5, 0, 2), (0, 6, 5, 0), (6, 5, 1, 0), (3, 0, 2, 5), (5, 2, 0, 3), (0, 5, 2, 3), (2, 3, 5, 1), (1, 0, 5, 6), (2, 1, 5, 3), (5, 0, 0, 6), (1, 2, 3, 5), (1, 0, 6, 5), (5, 3, 2, 1), (5, 0, 3, 2), (0, 5, 6, 0), (0, 5, 0, 6), (1, 3, 5, 2), (1, 5, 6, 1), (5, 0, 6, 1), (3, 2, 1, 5), (5, 1, 1, 6), (1, 1, 6, 5), (1, 3, 2, 5), (5, 1, 3, 2), (5, 6, 0, 0), (6, 0, 5, 1), (2, 5, 3, 1), (5, 6, 1, 0), (1, 6, 5, 1), (3, 5, 2, 0), (6, 1, 1, 5), (2, 1, 3, 5), (6, 5, 1, 1), (1, 5, 1, 6), (5, 0, 1, 6), (1, 2, 5, 3), (3, 0, 5, 2), (0, 5, 3, 2), (1, 5, 3, 2), (0, 2, 5, 3), (6, 0, 0, 5), (3, 2, 5, 0), (0, 5, 1, 6), (2, 0, 5, 3), (2, 0, 3, 5), (3, 1, 5, 2), (5, 3, 1, 2), (5, 1, 0, 6), (5, 3, 0, 2), (5, 0, 6, 0), (6, 1, 5, 0), (2, 5, 1, 3), (1, 6, 0, 5), (3, 1, 2, 5), (0, 1, 6, 5), (2, 3, 1, 5), (5, 1, 2, 3), (2, 3, 0, 5), (6, 0, 5, 0), (5, 6, 1, 1), (3, 5, 2, 1), (0, 3, 5, 2), (6, 5, 0, 1), (5, 1, 6, 0), (1, 5, 0, 6), (5, 2, 3, 0), (0, 6, 5, 1), (0, 0, 6, 5), (2, 3, 5, 0), (0, 3, 2, 5), (5, 2, 1, 3), (3, 2, 5, 1), (1, 5, 2, 3), (0, 0, 5, 6), (3, 2, 0, 5), (5, 0, 2, 3), (5, 3, 2, 0), (0, 5, 6, 1), (1, 5, 6, 0), (1, 6, 1, 5), (0, 2, 3, 5), (6, 1, 5, 1), (1, 1, 5, 6), (2, 5, 0, 3)}, 2: {(0, 2, 0, 1), (0, 0, 2, 1), (0, 1, 1, 2), (0, 1, 2, 0), (1, 1, 2, 1), (2, 1, 1, 1), (0, 2, 1, 1), (1, 0, 2, 0), (1, 2, 0, 0), (2, 0, 1, 0), (1, 2, 1, 0), (2, 0, 0, 0), (1, 0, 0, 2), (2, 1, 0, 1), (1, 0, 1, 2), (0, 0, 1, 2), (0, 0, 0, 2), (0, 2, 1, 0), (1, 2, 0, 1), (0, 2, 0, 0), (0, 0, 2, 0), (1, 2, 1, 1), (2, 0, 0, 1), (0, 1, 2, 1), (2, 1, 0, 0), (1, 1, 2, 0), (2, 1, 1, 0), (1, 1, 1, 2), (1, 0, 2, 1), (2, 0, 1, 1), (1, 1, 0, 2), (0, 1, 0, 2)}, 16: {(0, 4, 0, 4), (1, 0, 2, 8), (1, 4, 0, 4), (0, 1, 2, 8), (0, 2, 2, 4), (0, 8, 2, 0), (8, 0, 1, 2), (2, 8, 0, 1), (0, 1, 4, 4), (2, 0, 8, 1), (8, 0, 0, 2), (8, 2, 1, 0), (1, 8, 2, 1), (8, 2, 0, 0), (4, 4, 0, 1), (4, 1, 4, 0), (2, 2, 2, 2), (1, 2, 4, 2), (1, 2, 2, 4), (2, 1, 0, 8), (0, 2, 8, 1), (2, 1, 1, 8), (2, 4, 2, 0), (2, 2, 1, 4), (4, 2, 1, 2), (8, 1, 2, 0), (4, 2, 0, 2), (2, 1, 8, 1), (2, 0, 2, 4), (1, 2, 0, 8), (2, 0, 1, 8), (2, 2, 4, 1), (4, 0, 4, 0), (2, 0, 0, 8), (4, 2, 2, 1), (1, 4, 1, 4), (4, 1, 2, 2), (1, 2, 8, 1), (8, 0, 2, 0), (0, 2, 0, 8), (2, 8, 1, 1), (1, 4, 2, 2), (0, 8, 2, 1), (1, 4, 4, 1), (4, 1, 0, 4), (4, 4, 1, 1), (8, 1, 1, 2), (0, 4, 4, 0), (2, 4, 1, 2), (1, 8, 2, 0), (8, 2, 0, 1), (2, 4, 0, 2), (4, 0, 2, 2), (2, 2, 0, 4), (0, 0, 4, 4), (2, 4, 2, 1), (1, 0, 4, 4), (4, 0, 1, 4), (2, 1, 8, 0), (0, 0, 2, 8), (4, 0, 4, 1), (0, 1, 8, 2), (0, 4, 2, 2), (0, 4, 1, 4), (1, 2, 8, 0), (8, 0, 2, 1), (2, 8, 1, 0), (4, 1, 1, 4), (1, 1, 2, 8), (2, 8, 0, 0), (2, 0, 8, 0), (1, 8, 0, 2), (1, 0, 8, 2), (1, 8, 1, 2), (1, 4, 4, 0), (0, 8, 1, 2), (4, 4, 1, 0), (8, 2, 1, 1), (0, 8, 0, 2), (0, 4, 4, 1), (4, 4, 0, 0), (0, 0, 8, 2), (4, 1, 4, 1), (0, 2, 8, 0), (2, 1, 4, 2), (2, 1, 2, 4), (4, 0, 0, 4), (1, 2, 1, 8), (1, 1, 8, 2), (8, 1, 2, 1), (0, 2, 4, 2), (0, 2, 1, 8), (2, 2, 4, 0), (8, 1, 0, 2), (4, 2, 2, 0), (1, 1, 4, 4), (2, 0, 4, 2)}, 70: {(2, 7, 1, 5), (7, 10, 0, 0), (10, 1, 7, 0), (7, 1, 5, 2), (7, 10, 1, 0), (2, 5, 1, 7), (1, 7, 2, 5), (1, 7, 1, 10), (1, 7, 0, 10), (0, 0, 10, 7), (1, 10, 1, 7), (7, 0, 0, 10), (0, 7, 10, 0), (10, 7, 1, 1), (7, 0, 2, 5), (10, 0, 7, 0), (7, 0, 1, 10), (1, 2, 5, 7), (7, 5, 2, 1), (5, 7, 1, 2), (1, 0, 7, 10), (5, 2, 7, 1), (5, 7, 0, 2), (10, 1, 1, 7), (1, 7, 10, 0), (2, 7, 5, 0), (7, 1, 2, 5), (10, 1, 0, 7), (7, 1, 1, 10), (2, 0, 5, 7), (5, 0, 2, 7), (2, 1, 7, 5), (7, 1, 0, 10), (7, 0, 10, 0), (7, 2, 5, 1), (1, 1, 7, 10), (2, 5, 7, 1), (5, 0, 7, 2), (10, 0, 0, 7), (0, 7, 5, 2), (10, 0, 1, 7), (5, 1, 2, 7), (10, 1, 7, 1), (7, 10, 1, 1), (0, 10, 7, 1), (0, 10, 1, 7), (7, 1, 10, 0), (10, 7, 0, 1), (1, 2, 7, 5), (1, 0, 10, 7), (5, 1, 7, 2), (5, 2, 1, 7), (5, 7, 2, 0), (2, 5, 7, 0), (5, 2, 0, 7), (0, 5, 2, 7), (1, 5, 2, 7), (0, 1, 10, 7), (7, 5, 1, 2), (2, 1, 5, 7), (7, 5, 0, 2), (1, 7, 10, 1), (2, 7, 5, 1), (2, 7, 0, 5), (0, 5, 7, 2), (1, 5, 7, 2), (1, 10, 7, 0), (0, 2, 7, 5), (2, 5, 0, 7), (7, 10, 0, 1), (1, 10, 0, 7), (0, 1, 7, 10), (0, 10, 7, 0), (7, 1, 10, 1), (10, 7, 0, 0), (10, 7, 1, 0), (0, 7, 10, 1), (10, 0, 7, 1), (0, 10, 0, 7), (5, 7, 2, 1), (7, 5, 2, 0), (0, 0, 7, 10), (1, 7, 5, 2), (7, 2, 1, 5), (5, 2, 7, 0), (0, 7, 1, 10), (7, 2, 0, 5), (0, 2, 5, 7), (7, 0, 5, 2), (7, 0, 10, 1), (1, 10, 7, 1), (7, 2, 5, 0), (0, 7, 0, 10), (2, 0, 7, 5), (1, 1, 10, 7), (0, 7, 2, 5)}}\n"
     ]
    }
   ],
   "source": [
    "from itertools import permutations\n",
    "\n",
    "def all_shading_permutations(shading):\n",
    "    while len(shading) < 4:\n",
    "        shading += [0]\n",
    "    return set(permutations(shading))\n",
    "\n",
    "shadings2 = {i: set() for i in shadings.keys()}\n",
    "for i in shadings.keys():\n",
    "    for shading in shadings[i]:\n",
    "        shadings2[i].update(all_shading_permutations(shading))\n",
    "\n",
    "print(shadings2)"
   ]
  },
  {
   "cell_type": "code",
   "execution_count": 5,
   "metadata": {},
   "outputs": [],
   "source": [
    "def create_drawing(length, x):\n",
    "    rect_length = 40\n",
    "\n",
    "    canvas = Canvas(width = length*rect_length+20, height = length*rect_length+50)\n",
    "    canvas.stroke_style = \"#000\"\n",
    "    canvas.fill_style = \"#ebdbbc\"\n",
    "    canvas.font = \"17px sans-serif\"\n",
    "    canvas.text_align = \"center\"\n",
    "    canvas.text_baseline = \"middle\"\n",
    "    for cx in range(length):\n",
    "        for cy in range(length):\n",
    "            if x[(cx, cy)].solution_value > 0.5:\n",
    "                canvas.fill_style = \"#ebdbbc\"\n",
    "                canvas.fill_rect(cy*rect_length, cx*rect_length, rect_length, rect_length)\n",
    "            canvas.stroke_rect(cy*rect_length, cx*rect_length, rect_length, rect_length)\n",
    "            if (cx, cy) in grid:\n",
    "                canvas.fill_style = \"#000\"\n",
    "                canvas.fill_text(str(grid[(cx,cy)]), cy*rect_length+rect_length/2, cx*rect_length+rect_length/2)\n",
    "    return canvas"
   ]
  },
  {
   "cell_type": "code",
   "execution_count": 6,
   "metadata": {},
   "outputs": [],
   "source": [
    "def create_html_export(length, x, filename):\n",
    "    w = 40\n",
    "    f = open(filename, 'w')\n",
    "    f.write('<html>')\n",
    "    for cx in range(length):\n",
    "        for cy in range(length):\n",
    "            fill_color = \"#ebdbbc\" if x[(cx, cy)].solution_value > 0.5 else '#ffffff'\n",
    "            numm = '' if (cx,cy) not in grid else str(grid[(cx,cy)])\n",
    "            bgcol = '#fff' if x[(cx,cy)].solution_value < 0.5 else '#ebdbbc'\n",
    "            f.write('<div style=\"position: absolute; left: %ipx; top: %ipx; width: %ipx; height: %ipx; border-width: 1px; background-color: %s; border-style: solid; border-color: #000000\">%s</div>'%(cy*w, cx*w, w, w, bgcol, numm))\n",
    "    f.write('</html>')\n",
    "    f.flush()\n",
    "    f.close()"
   ]
  },
  {
   "cell_type": "code",
   "execution_count": 7,
   "metadata": {},
   "outputs": [],
   "source": [
    "def create_csv_export(length,x,filename):\n",
    "    f = open(filename, 'w')\n",
    "    f.write('r,c0,c1,c2,c3,c4,c5,c6,c7,c8,c9,c10,c11,c12\\n')\n",
    "    for cx in range(length):\n",
    "        t = []\n",
    "        for cy in range(length):\n",
    "            t.append(int(round(x[(cx,cy)].solution_value,0)))\n",
    "        f.write('r%i,%i,%i,%i,%i,%i,%i,%i,%i,%i,%i,%i,%i,%i\\n'%(cx, t[0],t[1],t[2],t[3],t[4],t[5],t[6],t[7],t[8],t[9],t[10],t[11],t[12]))\n",
    "    f.flush()\n",
    "    f.close()"
   ]
  },
  {
   "cell_type": "code",
   "execution_count": 8,
   "metadata": {},
   "outputs": [
    {
     "name": "stdout",
     "output_type": "stream",
     "text": [
      "Version identifier: 12.10.0.0 | 2019-11-26 | 843d4de\n",
      "CPXPARAM_Read_DataCheck                          1\n",
      "CPXPARAM_RandomSeed                              201903125\n",
      "Tried aggregator 2 times.\n",
      "MIP Presolve eliminated 6104 rows and 1660 columns.\n",
      "MIP Presolve modified 1907 coefficients.\n",
      "Aggregator did 58 substitutions.\n",
      "Reduced MIP has 795 rows, 380 columns, and 4079 nonzeros.\n",
      "Reduced MIP has 380 binaries, 0 generals, 0 SOSs, and 0 indicators.\n",
      "Presolve time = 0.02 sec. (11.39 ticks)\n",
      "Found incumbent of value 118.000000 after 0.04 sec. (17.38 ticks)\n",
      "Probing fixed 372 vars, tightened 0 bounds.\n",
      "Probing changed sense of 11 constraints.\n",
      "Probing time = 0.00 sec. (0.43 ticks)\n",
      "Tried aggregator 1 time.\n",
      "MIP Presolve eliminated 795 rows and 380 columns.\n",
      "All rows and columns eliminated.\n",
      "Presolve time = 0.00 sec. (0.46 ticks)\n",
      "\n",
      "Root node processing (before b&c):\n",
      "  Real time             =    0.05 sec. (19.80 ticks)\n",
      "Parallel b&c, 8 threads:\n",
      "  Real time             =    0.00 sec. (0.00 ticks)\n",
      "  Sync time (average)   =    0.00 sec.\n",
      "  Wait time (average)   =    0.00 sec.\n",
      "                          ------------\n",
      "Total (root+branch&cut) =    0.05 sec. (19.80 ticks)\n"
     ]
    }
   ],
   "source": [
    "from docplex.mp.model import Model\n",
    "\n",
    "length = 13\n",
    "\n",
    "m = Model()\n",
    "x = {(x,y): m.binary_var(name = 'x_%i_%i'%(x,y)) for x in range(length) for y in range(length)}\n",
    "\n",
    "# If a cell contains a number, that cell has to be colored:\n",
    "for cell in grid.keys():\n",
    "    m.add(x[(cell[0], cell[1])] == 1)\n",
    "    \n",
    "# If a cell contains a number, the colored fields that can be seen from this number must satisfy the shading conditions\n",
    "shading_option = dict()\n",
    "for cell in grid.keys():\n",
    "    cx = cell[0]\n",
    "    cy = cell[1]\n",
    "    num = grid[cell]\n",
    "    shading_option[cell] = {shading: m.binary_var(name = 's_%i_%i_%i_%i_%i_%i'%(cx,cy,shading[0],shading[1],shading[2],shading[3])) for shading in shadings2[num]}\n",
    "    m.add(m.sum(shading_option[cell].values()) == 1)\n",
    "    for shading in shadings2[num]:\n",
    "        # If this particular shading option is selected, we need to apply it to the x grid\n",
    "        shadeable = cx-shading[0] >= 0 and cy+shading[1] < length and cx+shading[2] < length and cy-shading[3] >= 0\n",
    "        if not shadeable:\n",
    "            m.add(shading_option[cell][shading] == 0)\n",
    "        if shadeable:\n",
    "            m.add(shading_option[cell][shading]*shading[0] <= m.sum(x[(cxx, cy)] for cxx in range(cx-shading[0],cx)))\n",
    "            m.add(shading_option[cell][shading]*shading[3] <= m.sum(x[(cx, cyy)] for cyy in range(cy-shading[3],cy)))\n",
    "            m.add(shading_option[cell][shading]*shading[1] <= m.sum(x[(cx, cyy)] for cyy in range(cy+1,cy+shading[1]+1)))\n",
    "            m.add(shading_option[cell][shading]*shading[2] <= m.sum(x[(cxx, cy)] for cxx in range(cx+1,cx+shading[2]+1)))\n",
    "            if cx-shading[0] > 0:\n",
    "                m.add(shading_option[cell][shading] <= 1-x[(cx-shading[0]-1,cy)])\n",
    "            if cy+shading[1] < length-1:\n",
    "                m.add(shading_option[cell][shading] <= 1-x[(cx,cy+shading[1]+1)])\n",
    "            if cx+shading[2] < length-1:\n",
    "                m.add(shading_option[cell][shading] <= 1-x[(cx+shading[2]+1,cy)])\n",
    "            if cy-shading[3] > 0:\n",
    "                m.add(shading_option[cell][shading] <= 1-x[(cx,cy-shading[3]-1)])\n",
    "                \n",
    "# The shaded area has to be connected\n",
    "# for cx in range(length):\n",
    "#     for cy in range(length):\n",
    "#         surrounding = 0\n",
    "#         surrounding += x[(cx+1,cy)] if cx+1 < length else 0\n",
    "#         surrounding += x[(cx-1,cy)] if cx-1 >= 0 else 0\n",
    "#         surrounding += x[(cx,cy+1)] if cy+1 < length else 0\n",
    "#         surrounding += x[(cx,cy-1)] if cy-1 >= 0 else 0\n",
    "#         m.add(x[(cx,cy)] <= surrounding)\n",
    "        \n",
    "# horizontally mirrored\n",
    "#ms = {0:12, 1:11, 2:10, 3:9, 4:8, 5:7, 6:6}\n",
    "#ms = {0:11, 1:10, 2:9, 3:8, 4:7, 5:6}\n",
    "#ms = {1:12, 2:11, 3:10, 4:9, 5:8, 6:7}\n",
    "# for cx in range(length):\n",
    "#     for cy in range(length):\n",
    "#         if cy in ms:\n",
    "#             m.add(x[(cx,cy)] == x[(cx,ms[cy])])\n",
    "#         if cx in ms:\n",
    "#             m.add(x[(cx,cy)] == x[(ms[cx],cy)])\n",
    "\n",
    "# mirrored on \\ axis\n",
    "# for cx in range(length):\n",
    "#     for cy in range(length):\n",
    "#         m.add(x[(cx,cy)] == x[(cy,cx)])\n",
    "        \n",
    "# mirrored on / axis\n",
    "# for cx in range(length):\n",
    "#     for cy in range(length):\n",
    "#         m.add(x[(cx,cy)] == x[(length-cy-1,length-cx-1)])\n",
    "\n",
    "# Rotate 180 degrees around center\n",
    "# for cx in range(length):\n",
    "#     for cy in range(length):\n",
    "#         m.add(x[(cx,cy)] == x[(6-(cx-6), 6-(cy-6))])\n",
    "\n",
    "# Rotate 180 degrees around (5,6)\n",
    "for cx in range(length):\n",
    "    for cy in range(length):\n",
    "        if 6-(cx-5) >= 0:\n",
    "            m.add(x[(cx,cy)] == x[(6-(cx-5), 6-(cy-6))])\n",
    "                \n",
    "m.minimize(m.sum(x.values()))\n",
    "\n",
    "counter = 0\n",
    "solution = m.solve(log_output = True)\n",
    "#m.export_as_lp('model.lp')\n",
    "# while solution:\n",
    "#     obj = int(sum(xx.solution_value for xx in x.values()))\n",
    "#     create_html_export(length, x, 'solutions/solution-'+str(obj)+'-'+str(counter)+'.html')\n",
    "#     create_csv_export(length, x, 'solutions/solution-'+str(obj)+'-'+str(counter)+'.csv')\n",
    "#     counter += 1\n",
    "#     viol1 = m.continuous_var(lb = 0, ub = 1)\n",
    "#     viol2 = m.continuous_var(lb = 0, ub = 1)\n",
    "#     m.add(m.sum(x[(cx,cy)] for cx in range(length) for cy in range(length) if x[(cx,cy)].solution_value < 0.5) >= 1-viol1)\n",
    "#     m.add(m.sum(x[(cx,cy)] for cx in range(length) for cy in range(length) if x[(cx,cy)].solution_value > 0.5) <= sum([xx.solution_value for xx in x.values()])-1+viol2)\n",
    "#     m.add(viol1 + viol2 <= 1)\n",
    "#     solution = m.solve(log_output = False)\n",
    "#     print(counter)"
   ]
  },
  {
   "cell_type": "code",
   "execution_count": 9,
   "metadata": {},
   "outputs": [
    {
     "data": {
      "application/vnd.jupyter.widget-view+json": {
       "model_id": "6067bed6ee064091b2d7b2c68b6bee23",
       "version_major": 2,
       "version_minor": 0
      },
      "text/plain": [
       "Canvas(height=570, width=540)"
      ]
     },
     "metadata": {},
     "output_type": "display_data"
    }
   ],
   "source": [
    "c = create_drawing(length, x)\n",
    "c"
   ]
  },
  {
   "cell_type": "markdown",
   "metadata": {},
   "source": [
    "Manually, we can now count the white cells and do our calculations. The correct answer is 503."
   ]
  },
  {
   "cell_type": "code",
   "execution_count": null,
   "metadata": {},
   "outputs": [],
   "source": []
  }
 ],
 "metadata": {
  "kernelspec": {
   "display_name": "Python 3",
   "language": "python",
   "name": "python3"
  },
  "language_info": {
   "codemirror_mode": {
    "name": "ipython",
    "version": 3
   },
   "file_extension": ".py",
   "mimetype": "text/x-python",
   "name": "python",
   "nbconvert_exporter": "python",
   "pygments_lexer": "ipython3",
   "version": "3.7.5"
  }
 },
 "nbformat": 4,
 "nbformat_minor": 4
}

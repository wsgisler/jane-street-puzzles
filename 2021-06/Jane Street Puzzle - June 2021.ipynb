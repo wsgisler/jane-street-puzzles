{
 "cells": [
  {
   "cell_type": "markdown",
   "metadata": {},
   "source": [
    "# Problem Definition\n",
    "\n",
    "The Robot Weightlifting World Championship’s final round is about to begin! Three robots, seeded 1, 2, and 3, remain in contention. They take turns from the 3rd seed to the 1st seed publicly declaring exactly how much weight (any nonnegative real number) they will attempt to lift, and no robot can choose exactly the same amount as a previous robot. Once the three weights have been announced, the robots attempt their lifts, and the robot that successfully lifts the most weight is the winner. If all robots fail, they just repeat the same lift amounts until at least one succeeds.\n",
    "\n",
    "Assume the following:\n",
    "\n",
    "1) all the robots have the same probability p(w) of successfully lifting a given weight w;\n",
    "\n",
    "2) p(w) is exactly known by all competitors, continuous, strictly decreasing as the w increases, p(0) = 1, and p(w) -> 0 as w -> infinity; and\n",
    "\n",
    "3) all competitors want to maximize their chance of winning the RWWC.\n",
    "\n",
    "If w is the amount of weight the 3rd seed should request, find p(w). Give your answer to an accuracy of six decimal places."
   ]
  },
  {
   "cell_type": "markdown",
   "metadata": {},
   "source": [
    "# A wrong solution.... Well, I didn't read the problem definition properly\n",
    "\n",
    "This is an incorrect solution. I didn't realize that every competitor wants to maximize their chance of winning the RWWC and have gone for another approach instead. My solution is maximizing the chance of player 3 winning, assuming that the two other robots would take the choice that hurts player 3 the most. Basically, this is the approach to take if I don't know what selection criteria the other robots have. I.e. they might chose their p randomly or they might want to cause as much damage as possible."
   ]
  },
  {
   "cell_type": "code",
   "execution_count": 1,
   "metadata": {},
   "outputs": [],
   "source": [
    "from random import random\n",
    "\n",
    "def simulate_win_probabilities(chosen_probabilities, num_simulations = 10000):\n",
    "    player_wins = [0 for i in chosen_probabilities]\n",
    "    for i in range(num_simulations):\n",
    "        winner = -1\n",
    "        lowest_prob = 1\n",
    "        while winner == -1:\n",
    "            for player, prob in enumerate(chosen_probabilities):\n",
    "                r = random()\n",
    "                if r <= prob:\n",
    "                    if prob < lowest_prob:\n",
    "                        lowest_prob = prob\n",
    "                        winner = player\n",
    "        player_wins[winner] += 1\n",
    "    return [player_wins[p]/num_simulations for p in range(len(chosen_probabilities))]"
   ]
  },
  {
   "cell_type": "code",
   "execution_count": 2,
   "metadata": {},
   "outputs": [
    {
     "data": {
      "text/plain": [
       "[0.561, 0.439]"
      ]
     },
     "execution_count": 2,
     "metadata": {},
     "output_type": "execute_result"
    }
   ],
   "source": [
    "simulate_win_probabilities([0.8, 0.4], 1000)"
   ]
  },
  {
   "cell_type": "code",
   "execution_count": 3,
   "metadata": {},
   "outputs": [],
   "source": [
    "def calculate_win_probabilities(p1, p2, rec = 2000):\n",
    "    if rec == 0:\n",
    "        return 1\n",
    "    else:\n",
    "        if p1 > p2:\n",
    "            return p1*(1-p2)+(1-p1)*(1-p2)*calculate_win_probabilities(p1, p2, rec-1)\n",
    "        if p1 < p2:\n",
    "            return p1 + (1-p1)*(1-p2)*calculate_win_probabilities(p1, p2, rec-1)"
   ]
  },
  {
   "cell_type": "code",
   "execution_count": 4,
   "metadata": {},
   "outputs": [
    {
     "name": "stdout",
     "output_type": "stream",
     "text": [
      "   0: 1.0000000000\n",
      "   1: 0.6000000000\n",
      "   2: 0.5760000000\n",
      "   3: 0.5745600000\n",
      "   4: 0.5744736000\n",
      "   5: 0.5744684160\n",
      "   6: 0.5744681050\n",
      "   7: 0.5744680863\n",
      "   8: 0.5744680852\n",
      "   9: 0.5744680851\n",
      "  10: 0.5744680851\n",
      "  11: 0.5744680851\n",
      "  12: 0.5744680851\n",
      "  13: 0.5744680851\n",
      "  14: 0.5744680851\n",
      "  15: 0.5744680851\n",
      "  16: 0.5744680851\n",
      "  17: 0.5744680851\n",
      "  18: 0.5744680851\n",
      "  19: 0.5744680851\n",
      "  20: 0.5744680851\n",
      "  21: 0.5744680851\n",
      "  22: 0.5744680851\n",
      "  23: 0.5744680851\n",
      "  24: 0.5744680851\n",
      "  25: 0.5744680851\n",
      "  26: 0.5744680851\n",
      "  27: 0.5744680851\n",
      "  28: 0.5744680851\n",
      "  29: 0.5744680851\n",
      "  30: 0.5744680851\n",
      "  31: 0.5744680851\n",
      "  32: 0.5744680851\n",
      "  33: 0.5744680851\n",
      "  34: 0.5744680851\n",
      "  35: 0.5744680851\n",
      "  36: 0.5744680851\n",
      "  37: 0.5744680851\n",
      "  38: 0.5744680851\n",
      "  39: 0.5744680851\n"
     ]
    }
   ],
   "source": [
    "for rec in range(40):\n",
    "    print('%4i: %1.10f'%(rec, calculate_win_probabilities(0.9, 0.4, rec)))"
   ]
  },
  {
   "cell_type": "code",
   "execution_count": 5,
   "metadata": {},
   "outputs": [],
   "source": [
    "def calculate_win_probabilities3(p1, p2, p3, rec = 2000):\n",
    "    if rec == 0:\n",
    "        return 1\n",
    "    else:\n",
    "        if p1 > p2 and p1 > p3:\n",
    "            return p1*(1-p2)*(1-p3) + (1-p1)*(1-p2)*(1-p3)*calculate_win_probabilities3(p1, p2, p3, rec-1)\n",
    "        if p2 > p1 and p1 > p3:\n",
    "            return p1*(1-p3) + (1-p1)*(1-p2)*(1-p3)*calculate_win_probabilities3(p1, p2, p3, rec-1)\n",
    "        if p3 > p1 and p1 > p2:\n",
    "            return p1*(1-p2) + (1-p1)*(1-p2)*(1-p3)*calculate_win_probabilities3(p1, p2, p3, rec-1)\n",
    "        if p2 > p1 and p3 > p1:\n",
    "            return p1 + (1-p1)*(1-p2)*(1-p3)*calculate_win_probabilities3(p1, p2, p3, rec-1)"
   ]
  },
  {
   "cell_type": "code",
   "execution_count": 6,
   "metadata": {},
   "outputs": [
    {
     "data": {
      "text/plain": [
       "[0.48215, 0.40654, 0.11131]"
      ]
     },
     "execution_count": 6,
     "metadata": {},
     "output_type": "execute_result"
    }
   ],
   "source": [
    "simulate_win_probabilities([0.8, 0.4, 0.1], 100000)"
   ]
  },
  {
   "cell_type": "code",
   "execution_count": 7,
   "metadata": {},
   "outputs": [
    {
     "data": {
      "text/plain": [
       "0.48430493273542596"
      ]
     },
     "execution_count": 7,
     "metadata": {},
     "output_type": "execute_result"
    }
   ],
   "source": [
    "calculate_win_probabilities3(0.8, 0.4, 0.1)"
   ]
  },
  {
   "cell_type": "code",
   "execution_count": 8,
   "metadata": {},
   "outputs": [
    {
     "data": {
      "text/plain": [
       "0.4035874439461884"
      ]
     },
     "execution_count": 8,
     "metadata": {},
     "output_type": "execute_result"
    }
   ],
   "source": [
    "calculate_win_probabilities3(0.4, 0.8, 0.1)"
   ]
  },
  {
   "cell_type": "code",
   "execution_count": 9,
   "metadata": {},
   "outputs": [
    {
     "data": {
      "text/plain": [
       "0.11210762331838565"
      ]
     },
     "execution_count": 9,
     "metadata": {},
     "output_type": "execute_result"
    }
   ],
   "source": [
    "calculate_win_probabilities3(0.1, 0.8, 0.4)"
   ]
  },
  {
   "cell_type": "code",
   "execution_count": 10,
   "metadata": {},
   "outputs": [
    {
     "data": {
      "text/plain": [
       "0.48430493273542596"
      ]
     },
     "execution_count": 10,
     "metadata": {},
     "output_type": "execute_result"
    }
   ],
   "source": [
    "calculate_win_probabilities3(0.8, 0.4, 0.1, 20)"
   ]
  },
  {
   "cell_type": "code",
   "execution_count": 11,
   "metadata": {},
   "outputs": [],
   "source": [
    "def frange(x, y, jump):\n",
    "    while x < y:\n",
    "        yield x\n",
    "        x += jump"
   ]
  },
  {
   "cell_type": "code",
   "execution_count": 12,
   "metadata": {},
   "outputs": [],
   "source": [
    "def test_through_p1_range(start, end, increments, rec_steps = 100, p2_ranges = [[0, 1]], p3_ranges = [[0, 1]]):\n",
    "    best_so_far = 0\n",
    "    for p1 in frange(start, end, increments):\n",
    "        worst_p = 1\n",
    "        enemy_p2 = 0\n",
    "        enemy_p3 = 0\n",
    "        for p2_range in p2_ranges:\n",
    "            for p2 in frange(p2_range[0], p2_range[1], increments):\n",
    "                for p3_range in p3_ranges:\n",
    "                    for p3 in frange(p3_range[0], p3_range[1], increments):\n",
    "                        if p1 != p2 and p2 < p3 and p1 != p3:\n",
    "                            p = calculate_win_probabilities3(p1, p2, p3, rec_steps)\n",
    "                            if p < worst_p:\n",
    "                                worst_p = p\n",
    "                                enemy_p2 = p2\n",
    "                                enemy_p3 = p3\n",
    "        if worst_p > best_so_far:\n",
    "            best_so_far = worst_p\n",
    "        best = '*' if best_so_far == worst_p else ''\n",
    "        print('%1.10f : %1.10f (enemy_p2: %1.10f, enemy_p3: %1.10f) %s'%(p1, worst_p, enemy_p2, enemy_p3, best))"
   ]
  },
  {
   "cell_type": "code",
   "execution_count": 13,
   "metadata": {},
   "outputs": [
    {
     "name": "stdout",
     "output_type": "stream",
     "text": [
      "0.0100000000 : 0.0100019804 (enemy_p2: 0.9800000000, enemy_p3: 0.9900000000) *\n",
      "0.0200000000 : 0.0199939816 (enemy_p2: 0.0100000000, enemy_p3: 0.9900000000) *\n",
      "0.0300000000 : 0.0296821586 (enemy_p2: 0.0200000000, enemy_p3: 0.9900000000) *\n",
      "0.0400000000 : 0.0391647017 (enemy_p2: 0.0300000000, enemy_p3: 0.9900000000) *\n",
      "0.0500000000 : 0.0484417891 (enemy_p2: 0.0400000000, enemy_p3: 0.9900000000) *\n",
      "0.0600000000 : 0.0575135964 (enemy_p2: 0.0500000000, enemy_p3: 0.9900000000) *\n",
      "0.0700000000 : 0.0663802966 (enemy_p2: 0.0600000000, enemy_p3: 0.9900000000) *\n",
      "0.0800000000 : 0.0750420599 (enemy_p2: 0.0700000000, enemy_p3: 0.9900000000) *\n",
      "0.0900000000 : 0.0834990541 (enemy_p2: 0.0800000000, enemy_p3: 0.9900000000) *\n",
      "0.1000000000 : 0.0917514443 (enemy_p2: 0.0900000000, enemy_p3: 0.9900000000) *\n",
      "0.1100000000 : 0.0997993931 (enemy_p2: 0.1000000000, enemy_p3: 0.9900000000) *\n",
      "0.1200000000 : 0.1076430604 (enemy_p2: 0.1100000000, enemy_p3: 0.9900000000) *\n",
      "0.1300000000 : 0.1152826036 (enemy_p2: 0.1200000000, enemy_p3: 0.9900000000) *\n",
      "0.1400000000 : 0.1227181774 (enemy_p2: 0.1300000000, enemy_p3: 0.9900000000) *\n",
      "0.1500000000 : 0.1299499340 (enemy_p2: 0.1400000000, enemy_p3: 0.9900000000) *\n",
      "0.1600000000 : 0.1369780231 (enemy_p2: 0.1500000000, enemy_p3: 0.9900000000) *\n",
      "0.1700000000 : 0.1438025917 (enemy_p2: 0.1600000000, enemy_p3: 0.9900000000) *\n",
      "0.1800000000 : 0.1504237843 (enemy_p2: 0.1700000000, enemy_p3: 0.9900000000) *\n",
      "0.1900000000 : 0.1568417429 (enemy_p2: 0.1800000000, enemy_p3: 0.9900000000) *\n",
      "0.2000000000 : 0.1630566068 (enemy_p2: 0.1900000000, enemy_p3: 0.9900000000) *\n",
      "0.2100000000 : 0.1690685130 (enemy_p2: 0.2000000000, enemy_p3: 0.9900000000) *\n",
      "0.2200000000 : 0.1748775957 (enemy_p2: 0.2100000000, enemy_p3: 0.9900000000) *\n",
      "0.2300000000 : 0.1804839868 (enemy_p2: 0.2200000000, enemy_p3: 0.9900000000) *\n",
      "0.2400000000 : 0.1858878155 (enemy_p2: 0.2300000000, enemy_p3: 0.9900000000) *\n",
      "0.2500000000 : 0.1910892085 (enemy_p2: 0.2400000000, enemy_p3: 0.9900000000) *\n",
      "0.2600000000 : 0.1960882900 (enemy_p2: 0.2500000000, enemy_p3: 0.9900000000) *\n",
      "0.2700000000 : 0.2008851818 (enemy_p2: 0.2600000000, enemy_p3: 0.9900000000) *\n",
      "0.2800000000 : 0.2054800029 (enemy_p2: 0.2700000000, enemy_p3: 0.9900000000) *\n",
      "0.2900000000 : 0.2098728701 (enemy_p2: 0.2800000000, enemy_p3: 0.9900000000) *\n",
      "0.3000000000 : 0.2140638976 (enemy_p2: 0.2900000000, enemy_p3: 0.9900000000) *\n",
      "0.3100000000 : 0.2180531969 (enemy_p2: 0.3000000000, enemy_p3: 0.9900000000) *\n",
      "0.3200000000 : 0.2218408774 (enemy_p2: 0.3100000000, enemy_p3: 0.9900000000) *\n",
      "0.3300000000 : 0.2254270456 (enemy_p2: 0.3200000000, enemy_p3: 0.9900000000) *\n",
      "0.3400000000 : 0.2215116745 (enemy_p2: 0.3200000000, enemy_p3: 0.3300000000) \n",
      "0.3500000000 : 0.2171997137 (enemy_p2: 0.3300000000, enemy_p3: 0.3400000000) \n",
      "0.3600000000 : 0.2128914865 (enemy_p2: 0.3400000000, enemy_p3: 0.3500000000) \n",
      "0.3700000000 : 0.2085862966 (enemy_p2: 0.3500000000, enemy_p3: 0.3600000000) \n",
      "0.3800000000 : 0.2042836419 (enemy_p2: 0.3600000000, enemy_p3: 0.3700000000) \n",
      "0.3900000000 : 0.1999831962 (enemy_p2: 0.3700000000, enemy_p3: 0.3800000000) \n",
      "0.4000000000 : 0.1956847933 (enemy_p2: 0.3800000000, enemy_p3: 0.3900000000) \n",
      "0.4100000000 : 0.1913884142 (enemy_p2: 0.3900000000, enemy_p3: 0.4000000000) \n",
      "0.4200000000 : 0.1870941763 (enemy_p2: 0.4000000000, enemy_p3: 0.4100000000) \n",
      "0.4300000000 : 0.1828023246 (enemy_p2: 0.4100000000, enemy_p3: 0.4200000000) \n",
      "0.4400000000 : 0.1785132243 (enemy_p2: 0.4200000000, enemy_p3: 0.4300000000) \n",
      "0.4500000000 : 0.1742273543 (enemy_p2: 0.4300000000, enemy_p3: 0.4400000000) \n",
      "0.4600000000 : 0.1699453028 (enemy_p2: 0.4400000000, enemy_p3: 0.4500000000) \n",
      "0.4700000000 : 0.1656677625 (enemy_p2: 0.4500000000, enemy_p3: 0.4600000000) \n",
      "0.4800000000 : 0.1613955281 (enemy_p2: 0.4600000000, enemy_p3: 0.4700000000) \n",
      "0.4900000000 : 0.1571294930 (enemy_p2: 0.4700000000, enemy_p3: 0.4800000000) \n",
      "0.5000000000 : 0.1528706479 (enemy_p2: 0.4800000000, enemy_p3: 0.4900000000) \n",
      "0.5100000000 : 0.1486200789 (enemy_p2: 0.4900000000, enemy_p3: 0.5000000000) \n",
      "0.5200000000 : 0.1443789665 (enemy_p2: 0.5000000000, enemy_p3: 0.5100000000) \n",
      "0.5300000000 : 0.1401485852 (enemy_p2: 0.5100000000, enemy_p3: 0.5200000000) \n",
      "0.5400000000 : 0.1359303031 (enemy_p2: 0.5200000000, enemy_p3: 0.5300000000) \n",
      "0.5500000000 : 0.1317255819 (enemy_p2: 0.5300000000, enemy_p3: 0.5400000000) \n",
      "0.5600000000 : 0.1275359768 (enemy_p2: 0.5400000000, enemy_p3: 0.5500000000) \n",
      "0.5700000000 : 0.1233631375 (enemy_p2: 0.5500000000, enemy_p3: 0.5600000000) \n",
      "0.5800000000 : 0.1192088088 (enemy_p2: 0.5600000000, enemy_p3: 0.5700000000) \n",
      "0.5900000000 : 0.1150748309 (enemy_p2: 0.5700000000, enemy_p3: 0.5800000000) \n",
      "0.6000000000 : 0.1109631412 (enemy_p2: 0.5800000000, enemy_p3: 0.5900000000) \n",
      "0.6100000000 : 0.1068757745 (enemy_p2: 0.5900000000, enemy_p3: 0.6000000000) \n",
      "0.6200000000 : 0.1028148652 (enemy_p2: 0.6000000000, enemy_p3: 0.6100000000) \n",
      "0.6300000000 : 0.0987826477 (enemy_p2: 0.6100000000, enemy_p3: 0.6200000000) \n",
      "0.6400000000 : 0.0947814583 (enemy_p2: 0.6200000000, enemy_p3: 0.6300000000) \n",
      "0.6500000000 : 0.0908137364 (enemy_p2: 0.6300000000, enemy_p3: 0.6400000000) \n",
      "0.6600000000 : 0.0868820260 (enemy_p2: 0.6400000000, enemy_p3: 0.6500000000) \n",
      "0.6700000000 : 0.0829889771 (enemy_p2: 0.6500000000, enemy_p3: 0.6600000000) \n",
      "0.6800000000 : 0.0791373473 (enemy_p2: 0.6600000000, enemy_p3: 0.6700000000) \n",
      "0.6900000000 : 0.0753300030 (enemy_p2: 0.6700000000, enemy_p3: 0.6800000000) \n",
      "0.7000000000 : 0.0715699208 (enemy_p2: 0.6800000000, enemy_p3: 0.6900000000) \n",
      "0.7100000000 : 0.0678601893 (enemy_p2: 0.6900000000, enemy_p3: 0.7000000000) \n",
      "0.7200000000 : 0.0642040097 (enemy_p2: 0.7000000000, enemy_p3: 0.7100000000) \n",
      "0.7300000000 : 0.0606046974 (enemy_p2: 0.7100000000, enemy_p3: 0.7200000000) \n",
      "0.7400000000 : 0.0570656831 (enemy_p2: 0.7200000000, enemy_p3: 0.7300000000) \n",
      "0.7500000000 : 0.0535905135 (enemy_p2: 0.7300000000, enemy_p3: 0.7400000000) \n",
      "0.7600000000 : 0.0501828525 (enemy_p2: 0.7400000000, enemy_p3: 0.7500000000) \n",
      "0.7700000000 : 0.0468464814 (enemy_p2: 0.7500000000, enemy_p3: 0.7600000000) \n",
      "0.7800000000 : 0.0435852999 (enemy_p2: 0.7600000000, enemy_p3: 0.7700000000) \n",
      "0.7900000000 : 0.0404033257 (enemy_p2: 0.7700000000, enemy_p3: 0.7800000000) \n",
      "0.8000000000 : 0.0373046954 (enemy_p2: 0.7800000000, enemy_p3: 0.7900000000) \n",
      "0.8100000000 : 0.0342936634 (enemy_p2: 0.7900000000, enemy_p3: 0.8000000000) \n",
      "0.8200000000 : 0.0313746023 (enemy_p2: 0.8000000000, enemy_p3: 0.8100000000) \n",
      "0.8300000000 : 0.0285520013 (enemy_p2: 0.8100000000, enemy_p3: 0.8200000000) \n",
      "0.8400000000 : 0.0258304660 (enemy_p2: 0.8200000000, enemy_p3: 0.8300000000) \n",
      "0.8500000000 : 0.0232147160 (enemy_p2: 0.8300000000, enemy_p3: 0.8400000000) \n",
      "0.8600000000 : 0.0207095842 (enemy_p2: 0.8400000000, enemy_p3: 0.8500000000) \n",
      "0.8700000000 : 0.0183200136 (enemy_p2: 0.8500000000, enemy_p3: 0.8600000000) \n",
      "0.8800000000 : 0.0160510555 (enemy_p2: 0.8600000000, enemy_p3: 0.8700000000) \n",
      "0.8900000000 : 0.0139078659 (enemy_p2: 0.8700000000, enemy_p3: 0.8800000000) \n",
      "0.9000000000 : 0.0118957023 (enemy_p2: 0.8800000000, enemy_p3: 0.8900000000) \n",
      "0.9100000000 : 0.0100199197 (enemy_p2: 0.8900000000, enemy_p3: 0.9000000000) \n",
      "0.9200000000 : 0.0082859659 (enemy_p2: 0.9000000000, enemy_p3: 0.9100000000) \n",
      "0.9300000000 : 0.0066993765 (enemy_p2: 0.9100000000, enemy_p3: 0.9200000000) \n",
      "0.9400000000 : 0.0052657693 (enemy_p2: 0.9200000000, enemy_p3: 0.9300000000) \n",
      "0.9500000000 : 0.0039908381 (enemy_p2: 0.9300000000, enemy_p3: 0.9400000000) \n",
      "0.9600000000 : 0.0028803456 (enemy_p2: 0.9400000000, enemy_p3: 0.9500000000) \n",
      "0.9700000000 : 0.0019401164 (enemy_p2: 0.9500000000, enemy_p3: 0.9600000000) \n",
      "0.9800000000 : 0.0011760282 (enemy_p2: 0.9600000000, enemy_p3: 0.9700000000) \n",
      "0.9900000000 : 0.0005940036 (enemy_p2: 0.9700000000, enemy_p3: 0.9800000000) \n"
     ]
    }
   ],
   "source": [
    "test_through_p1_range(0.01, 1, 0.01, 50)"
   ]
  },
  {
   "cell_type": "code",
   "execution_count": 14,
   "metadata": {},
   "outputs": [
    {
     "name": "stdout",
     "output_type": "stream",
     "text": [
      "0.3170000000 : 0.2169293433 (enemy_p2: 0.3160000000, enemy_p3: 0.9990000000) *\n",
      "0.3180000000 : 0.2172952174 (enemy_p2: 0.3170000000, enemy_p3: 0.9990000000) *\n",
      "0.3190000000 : 0.2176261511 (enemy_p2: 0.3170000000, enemy_p3: 0.3180000000) *\n",
      "0.3200000000 : 0.2172258202 (enemy_p2: 0.3180000000, enemy_p3: 0.3190000000) \n",
      "0.3210000000 : 0.2168253661 (enemy_p2: 0.3190000000, enemy_p3: 0.3200000000) \n",
      "0.3220000000 : 0.2164247892 (enemy_p2: 0.3200000000, enemy_p3: 0.3210000000) \n",
      "0.3230000000 : 0.2160240900 (enemy_p2: 0.3210000000, enemy_p3: 0.3220000000) \n"
     ]
    }
   ],
   "source": [
    "test_through_p1_range(0.317, 0.324, 0.001, 100)"
   ]
  },
  {
   "cell_type": "code",
   "execution_count": 15,
   "metadata": {},
   "outputs": [
    {
     "name": "stdout",
     "output_type": "stream",
     "text": [
      "0.3174000000 : 0.2166572400 (enemy_p2: 0.3174000000, enemy_p3: 1.0000000000) *\n",
      "0.3175000000 : 0.2166937500 (enemy_p2: 0.3175000000, enemy_p3: 1.0000000000) *\n",
      "0.3176000000 : 0.2167302400 (enemy_p2: 0.3176000000, enemy_p3: 1.0000000000) *\n",
      "0.3177000000 : 0.2167667100 (enemy_p2: 0.3177000000, enemy_p3: 1.0000000000) *\n",
      "0.3178000000 : 0.2167524152 (enemy_p2: 0.3177000000, enemy_p3: 0.3178000000) \n",
      "0.3179000000 : 0.2167127300 (enemy_p2: 0.3178000000, enemy_p3: 0.3179000000) \n",
      "0.3180000000 : 0.2166730435 (enemy_p2: 0.3179000000, enemy_p3: 0.3180000000) \n"
     ]
    }
   ],
   "source": [
    "test_through_p1_range(0.3174, 0.318, 0.0001, 100, [[0.317,0.32], [0.98,1]], [[0.317,0.32], [0.98,1]])"
   ]
  },
  {
   "cell_type": "code",
   "execution_count": 16,
   "metadata": {},
   "outputs": [
    {
     "name": "stdout",
     "output_type": "stream",
     "text": [
      "0.3174000000 : 0.2166572400 (enemy_p2: 0.3174000000, enemy_p3: 1.0000000000) *\n",
      "0.3174500000 : 0.2166754975 (enemy_p2: 0.3174500000, enemy_p3: 1.0000000000) *\n",
      "0.3175000000 : 0.2166937500 (enemy_p2: 0.3175000000, enemy_p3: 1.0000000000) *\n",
      "0.3175500000 : 0.2167119975 (enemy_p2: 0.3175500000, enemy_p3: 1.0000000000) *\n",
      "0.3176000000 : 0.2167302400 (enemy_p2: 0.3176000000, enemy_p3: 1.0000000000) *\n",
      "0.3176500000 : 0.2167484775 (enemy_p2: 0.3176500000, enemy_p3: 1.0000000000) *\n",
      "0.3177000000 : 0.2167667100 (enemy_p2: 0.3177000000, enemy_p3: 1.0000000000) *\n",
      "0.3177500000 : 0.2167489807 (enemy_p2: 0.3177000000, enemy_p3: 0.3177500000) \n",
      "0.3178000000 : 0.2167291414 (enemy_p2: 0.3177500000, enemy_p3: 0.3178000000) \n",
      "0.3178500000 : 0.2167093018 (enemy_p2: 0.3178000000, enemy_p3: 0.3178500000) \n",
      "0.3179000000 : 0.2166894619 (enemy_p2: 0.3178500000, enemy_p3: 0.3179000000) \n",
      "0.3179500000 : 0.2166696216 (enemy_p2: 0.3179000000, enemy_p3: 0.3179500000) \n",
      "0.3180000000 : 0.2166497809 (enemy_p2: 0.3179500000, enemy_p3: 0.3180000000) \n"
     ]
    }
   ],
   "source": [
    "test_through_p1_range(0.3174, 0.318, 0.00005, 100, [[0.317,0.32], [0.98,1]], [[0.317,0.32], [0.98,1]])"
   ]
  },
  {
   "cell_type": "code",
   "execution_count": 17,
   "metadata": {},
   "outputs": [
    {
     "name": "stdout",
     "output_type": "stream",
     "text": [
      "0.3176000000 : 0.2167334160 (enemy_p2: 0.3175900000, enemy_p3: 1.0000000000) *\n",
      "0.3176100000 : 0.2167370640 (enemy_p2: 0.3176000000, enemy_p3: 1.0000000000) *\n",
      "0.3176200000 : 0.2167407118 (enemy_p2: 0.3176100000, enemy_p3: 1.0000000000) *\n",
      "0.3176300000 : 0.2167443594 (enemy_p2: 0.3176200000, enemy_p3: 1.0000000000) *\n",
      "0.3176400000 : 0.2167480068 (enemy_p2: 0.3176300000, enemy_p3: 1.0000000000) *\n",
      "0.3176500000 : 0.2167516540 (enemy_p2: 0.3176400000, enemy_p3: 1.0000000000) *\n",
      "0.3176600000 : 0.2167553010 (enemy_p2: 0.3176500000, enemy_p3: 1.0000000000) *\n",
      "0.3176700000 : 0.2167589478 (enemy_p2: 0.3176600000, enemy_p3: 1.0000000000) *\n",
      "0.3176800000 : 0.2167625944 (enemy_p2: 0.3176700000, enemy_p3: 1.0000000000) *\n",
      "0.3176900000 : 0.2167634759 (enemy_p2: 0.3176700000, enemy_p3: 0.3176800000) *\n",
      "0.3177000000 : 0.2167595084 (enemy_p2: 0.3176800000, enemy_p3: 0.3176900000) \n"
     ]
    }
   ],
   "source": [
    "test_through_p1_range(0.3176, 0.31771, 0.00001, 100, [[0.3172,0.318], [0.99,1]], [[0.3172,0.318], [0.99,1]])"
   ]
  },
  {
   "cell_type": "code",
   "execution_count": 18,
   "metadata": {},
   "outputs": [
    {
     "name": "stdout",
     "output_type": "stream",
     "text": [
      "0.3176500000 : 0.2167516540 (enemy_p2: 0.3176400000, enemy_p3: 1.0000000000) *\n",
      "0.3176600000 : 0.2167553010 (enemy_p2: 0.3176500000, enemy_p3: 1.0000000000) *\n",
      "0.3176700000 : 0.2167589478 (enemy_p2: 0.3176600000, enemy_p3: 1.0000000000) *\n",
      "0.3176800000 : 0.2167625944 (enemy_p2: 0.3176700000, enemy_p3: 1.0000000000) *\n",
      "0.3176900000 : 0.2167634759 (enemy_p2: 0.3176700000, enemy_p3: 0.3176800000) *\n",
      "0.3177000000 : 0.2167595084 (enemy_p2: 0.3176800000, enemy_p3: 0.3176900000) \n",
      "0.3177100000 : 0.2167555408 (enemy_p2: 0.3176900000, enemy_p3: 0.3177000000) \n",
      "0.3177200000 : 0.2167515733 (enemy_p2: 0.3177000000, enemy_p3: 0.3177100000) \n",
      "0.3177300000 : 0.2167476058 (enemy_p2: 0.3177100000, enemy_p3: 0.3177200000) \n",
      "0.3177400000 : 0.2167436382 (enemy_p2: 0.3177200000, enemy_p3: 0.3177300000) \n"
     ]
    }
   ],
   "source": [
    "test_through_p1_range(0.31765, 0.31775, 0.00001, 100, [[0.3176,0.3178], [0.9999,1]], [[0.3176,0.3178], [0.9999,1]])"
   ]
  },
  {
   "cell_type": "code",
   "execution_count": 19,
   "metadata": {},
   "outputs": [
    {
     "name": "stdout",
     "output_type": "stream",
     "text": [
      "0.3176600000 : 0.2167522253 (enemy_p2: 0.3176600000, enemy_p3: 0.9999990000) *\n",
      "0.3176610000 : 0.2167525900 (enemy_p2: 0.3176610000, enemy_p3: 0.9999990000) *\n",
      "0.3176620000 : 0.2167529547 (enemy_p2: 0.3176620000, enemy_p3: 0.9999990000) *\n",
      "0.3176630000 : 0.2167533193 (enemy_p2: 0.3176630000, enemy_p3: 0.9999990000) *\n",
      "0.3176640000 : 0.2167536840 (enemy_p2: 0.3176640000, enemy_p3: 0.9999990000) *\n",
      "0.3176650000 : 0.2167540487 (enemy_p2: 0.3176650000, enemy_p3: 0.9999990000) *\n",
      "0.3176660000 : 0.2167544134 (enemy_p2: 0.3176660000, enemy_p3: 0.9999990000) *\n",
      "0.3176670000 : 0.2167547780 (enemy_p2: 0.3176670000, enemy_p3: 0.9999990000) *\n",
      "0.3176680000 : 0.2167551427 (enemy_p2: 0.3176680000, enemy_p3: 0.9999990000) *\n",
      "0.3176690000 : 0.2167555074 (enemy_p2: 0.3176690000, enemy_p3: 0.9999990000) *\n",
      "0.3176700000 : 0.2167558720 (enemy_p2: 0.3176700000, enemy_p3: 0.9999990000) *\n",
      "0.3176710000 : 0.2167562367 (enemy_p2: 0.3176710000, enemy_p3: 0.9999990000) *\n",
      "0.3176720000 : 0.2167566013 (enemy_p2: 0.3176720000, enemy_p3: 0.9999990000) *\n",
      "0.3176730000 : 0.2167567186 (enemy_p2: 0.3176720000, enemy_p3: 0.3176730000) *\n",
      "0.3176740000 : 0.2167563219 (enemy_p2: 0.3176730000, enemy_p3: 0.3176740000) \n",
      "0.3176750000 : 0.2167559252 (enemy_p2: 0.3176740000, enemy_p3: 0.3176750000) \n",
      "0.3176760000 : 0.2167555285 (enemy_p2: 0.3176750000, enemy_p3: 0.3176760000) \n",
      "0.3176770000 : 0.2167551318 (enemy_p2: 0.3176760000, enemy_p3: 0.3176770000) \n",
      "0.3176780000 : 0.2167547351 (enemy_p2: 0.3176770000, enemy_p3: 0.3176780000) \n",
      "0.3176790000 : 0.2167543383 (enemy_p2: 0.3176780000, enemy_p3: 0.3176790000) \n",
      "0.3176800000 : 0.2167539416 (enemy_p2: 0.3176790000, enemy_p3: 0.3176800000) \n",
      "0.3176810000 : 0.2167535449 (enemy_p2: 0.3176800000, enemy_p3: 0.3176810000) \n"
     ]
    }
   ],
   "source": [
    "test_through_p1_range(0.31766, 0.317681, 0.000001, 100, [[0.31762,0.31775], [0.9999,1]], [[0.31762,0.31775], [0.9999,1]])"
   ]
  },
  {
   "cell_type": "code",
   "execution_count": 20,
   "metadata": {},
   "outputs": [
    {
     "name": "stdout",
     "output_type": "stream",
     "text": [
      "0.3176690000 : 0.2167555653 (enemy_p2: 0.3176685000, enemy_p3: 1.0000000000) *\n",
      "0.3176695000 : 0.2167557476 (enemy_p2: 0.3176690000, enemy_p3: 1.0000000000) *\n",
      "0.3176700000 : 0.2167559299 (enemy_p2: 0.3176695000, enemy_p3: 1.0000000000) *\n",
      "0.3176705000 : 0.2167561123 (enemy_p2: 0.3176700000, enemy_p3: 1.0000000000) *\n",
      "0.3176710000 : 0.2167562946 (enemy_p2: 0.3176705000, enemy_p3: 1.0000000000) *\n",
      "0.3176715000 : 0.2167564769 (enemy_p2: 0.3176710000, enemy_p3: 1.0000000000) *\n",
      "0.3176720000 : 0.2167566593 (enemy_p2: 0.3176715000, enemy_p3: 1.0000000000) *\n",
      "0.3176725000 : 0.2167568416 (enemy_p2: 0.3176720000, enemy_p3: 1.0000000000) *\n",
      "0.3176730000 : 0.2167569514 (enemy_p2: 0.3176720000, enemy_p3: 0.3176725000) *\n",
      "0.3176735000 : 0.2167567531 (enemy_p2: 0.3176725000, enemy_p3: 0.3176730000) \n",
      "0.3176740000 : 0.2167565547 (enemy_p2: 0.3176730000, enemy_p3: 0.3176735000) \n"
     ]
    }
   ],
   "source": [
    "test_through_p1_range(0.317669, 0.3176745, 0.0000005, 100, [[0.317661,0.317681], [0.9999,1]], [[0.317661,0.317681], [0.9999,1]])"
   ]
  },
  {
   "cell_type": "code",
   "execution_count": 21,
   "metadata": {},
   "outputs": [
    {
     "name": "stdout",
     "output_type": "stream",
     "text": [
      "0.3176720000 : 0.2167565322 (enemy_p2: 0.3176719000, enemy_p3: 1.0000000000) *\n",
      "0.3176721000 : 0.2167565686 (enemy_p2: 0.3176720000, enemy_p3: 1.0000000000) *\n",
      "0.3176722000 : 0.2167566051 (enemy_p2: 0.3176721000, enemy_p3: 1.0000000000) *\n",
      "0.3176723000 : 0.2167566416 (enemy_p2: 0.3176722000, enemy_p3: 1.0000000000) *\n",
      "0.3176724000 : 0.2167566308 (enemy_p2: 0.3176722000, enemy_p3: 0.3176723000) \n",
      "0.3176725000 : 0.2167565911 (enemy_p2: 0.3176723000, enemy_p3: 0.3176724000) \n"
     ]
    }
   ],
   "source": [
    "test_through_p1_range(0.317672, 0.3176726, 0.0000001, 100, [[0.317668,0.3176749], [0.9999,1]], [[0.317668,0.3176749], [0.9999,1]])"
   ]
  },
  {
   "cell_type": "code",
   "execution_count": 22,
   "metadata": {},
   "outputs": [
    {
     "name": "stdout",
     "output_type": "stream",
     "text": [
      "0.3176721000 : 0.2167565419 (enemy_p2: 0.3176721000, enemy_p3: 0.9999999500) *\n",
      "0.3176721500 : 0.2167565602 (enemy_p2: 0.3176721500, enemy_p3: 0.9999999500) *\n",
      "0.3176722000 : 0.2167565784 (enemy_p2: 0.3176722000, enemy_p3: 0.9999999500) *\n",
      "0.3176722500 : 0.2167565739 (enemy_p2: 0.3176722000, enemy_p3: 0.3176722500) \n",
      "0.3176723000 : 0.2167565540 (enemy_p2: 0.3176722500, enemy_p3: 0.3176723000) \n",
      "0.3176723500 : 0.2167565342 (enemy_p2: 0.3176723000, enemy_p3: 0.3176723500) \n",
      "0.3176724000 : 0.2167565144 (enemy_p2: 0.3176723500, enemy_p3: 0.3176724000) \n",
      "0.3176724500 : 0.2167564945 (enemy_p2: 0.3176724000, enemy_p3: 0.3176724500) \n",
      "0.3176725000 : 0.2167564747 (enemy_p2: 0.3176724500, enemy_p3: 0.3176725000) \n",
      "0.3176725500 : 0.2167564549 (enemy_p2: 0.3176725000, enemy_p3: 0.3176725500) \n",
      "0.3176726000 : 0.2167564350 (enemy_p2: 0.3176725500, enemy_p3: 0.3176726000) \n"
     ]
    }
   ],
   "source": [
    "test_through_p1_range(0.3176721, 0.3176726, 0.00000005, 100, [[0.3176719,0.3176729], [0.999999,1]], [[0.3176719,0.3176729], [0.999999,1]])"
   ]
  },
  {
   "cell_type": "code",
   "execution_count": 23,
   "metadata": {},
   "outputs": [
    {
     "name": "stdout",
     "output_type": "stream",
     "text": [
      "0.3176721000 : 0.2167565379 (enemy_p2: 0.3176721000, enemy_p3: 0.9999999900) *\n",
      "0.3176721100 : 0.2167565415 (enemy_p2: 0.3176721100, enemy_p3: 0.9999999900) *\n",
      "0.3176721200 : 0.2167565452 (enemy_p2: 0.3176721200, enemy_p3: 0.9999999900) *\n",
      "0.3176721300 : 0.2167565488 (enemy_p2: 0.3176721300, enemy_p3: 0.9999999900) *\n",
      "0.3176721400 : 0.2167565525 (enemy_p2: 0.3176721400, enemy_p3: 0.9999999900) *\n",
      "0.3176721500 : 0.2167565561 (enemy_p2: 0.3176721500, enemy_p3: 0.9999999900) *\n",
      "0.3176721600 : 0.2167565598 (enemy_p2: 0.3176721600, enemy_p3: 0.9999999900) *\n",
      "0.3176721700 : 0.2167565634 (enemy_p2: 0.3176721700, enemy_p3: 0.9999999900) *\n",
      "0.3176721800 : 0.2167565671 (enemy_p2: 0.3176721800, enemy_p3: 0.9999999900) *\n",
      "0.3176721900 : 0.2167565707 (enemy_p2: 0.3176721900, enemy_p3: 0.9999999900) *\n",
      "0.3176722000 : 0.2167565744 (enemy_p2: 0.3176722000, enemy_p3: 0.9999999900) *\n",
      "0.3176722100 : 0.2167565711 (enemy_p2: 0.3176722000, enemy_p3: 0.3176722100) \n",
      "0.3176722200 : 0.2167565672 (enemy_p2: 0.3176722100, enemy_p3: 0.3176722200) \n",
      "0.3176722300 : 0.2167565632 (enemy_p2: 0.3176722200, enemy_p3: 0.3176722300) \n",
      "0.3176722400 : 0.2167565592 (enemy_p2: 0.3176722300, enemy_p3: 0.3176722400) \n",
      "0.3176722500 : 0.2167565553 (enemy_p2: 0.3176722400, enemy_p3: 0.3176722500) \n",
      "0.3176722600 : 0.2167565513 (enemy_p2: 0.3176722500, enemy_p3: 0.3176722600) \n",
      "0.3176722700 : 0.2167565473 (enemy_p2: 0.3176722600, enemy_p3: 0.3176722700) \n"
     ]
    }
   ],
   "source": [
    "test_through_p1_range(0.3176721, 0.31767227, 0.00000001, 100, [[0.3176719,0.3176729], [0.999999,1]], [[0.3176719,0.3176729], [0.999999,1]])"
   ]
  },
  {
   "cell_type": "code",
   "execution_count": 24,
   "metadata": {},
   "outputs": [
    {
     "name": "stdout",
     "output_type": "stream",
     "text": [
      "0.3176721700 : 0.2167565640 (enemy_p2: 0.3176721650, enemy_p3: 1.0000000000) *\n",
      "0.3176721750 : 0.2167565658 (enemy_p2: 0.3176721700, enemy_p3: 1.0000000000) *\n",
      "0.3176721800 : 0.2167565676 (enemy_p2: 0.3176721750, enemy_p3: 1.0000000000) *\n",
      "0.3176721850 : 0.2167565695 (enemy_p2: 0.3176721800, enemy_p3: 1.0000000000) *\n",
      "0.3176721900 : 0.2167565713 (enemy_p2: 0.3176721850, enemy_p3: 1.0000000000) *\n",
      "0.3176721950 : 0.2167565731 (enemy_p2: 0.3176721900, enemy_p3: 1.0000000000) *\n",
      "0.3176722000 : 0.2167565749 (enemy_p2: 0.3176721950, enemy_p3: 1.0000000000) *\n",
      "0.3176722050 : 0.2167565754 (enemy_p2: 0.3176721950, enemy_p3: 0.3176722000) *\n",
      "0.3176722100 : 0.2167565734 (enemy_p2: 0.3176722000, enemy_p3: 0.3176722050) \n",
      "0.3176722150 : 0.2167565715 (enemy_p2: 0.3176722050, enemy_p3: 0.3176722100) \n",
      "0.3176722200 : 0.2167565695 (enemy_p2: 0.3176722100, enemy_p3: 0.3176722150) \n",
      "0.3176722250 : 0.2167565675 (enemy_p2: 0.3176722150, enemy_p3: 0.3176722200) \n"
     ]
    }
   ],
   "source": [
    "test_through_p1_range(0.31767217, 0.31767223, 0.000000005, 100, [[0.31767214,0.31767226], [0.999999,1]], [[0.31767214,0.31767226], [0.999999,1]])"
   ]
  },
  {
   "cell_type": "code",
   "execution_count": 25,
   "metadata": {},
   "outputs": [
    {
     "name": "stdout",
     "output_type": "stream",
     "text": [
      "0.3176721900 : 0.2167565700 (enemy_p2: 0.3176721890, enemy_p3: 1.0000000000) *\n",
      "0.3176721910 : 0.2167565704 (enemy_p2: 0.3176721900, enemy_p3: 1.0000000000) *\n",
      "0.3176721920 : 0.2167565707 (enemy_p2: 0.3176721910, enemy_p3: 1.0000000000) *\n",
      "0.3176721930 : 0.2167565711 (enemy_p2: 0.3176721920, enemy_p3: 1.0000000000) *\n",
      "0.3176721940 : 0.2167565715 (enemy_p2: 0.3176721930, enemy_p3: 1.0000000000) *\n",
      "0.3176721950 : 0.2167565718 (enemy_p2: 0.3176721940, enemy_p3: 1.0000000000) *\n",
      "0.3176721960 : 0.2167565722 (enemy_p2: 0.3176721950, enemy_p3: 1.0000000000) *\n",
      "0.3176721970 : 0.2167565726 (enemy_p2: 0.3176721960, enemy_p3: 1.0000000000) *\n",
      "0.3176721980 : 0.2167565726 (enemy_p2: 0.3176721960, enemy_p3: 0.3176721970) *\n",
      "0.3176721990 : 0.2167565722 (enemy_p2: 0.3176721970, enemy_p3: 0.3176721980) \n",
      "0.3176722000 : 0.2167565718 (enemy_p2: 0.3176721980, enemy_p3: 0.3176721990) \n"
     ]
    }
   ],
   "source": [
    "test_through_p1_range(0.31767219, 0.317672201, 0.000000001, 100, [[0.31767214,0.31767226], [0.999999,1]], [[0.31767214,0.31767226], [0.999999,1]])"
   ]
  },
  {
   "cell_type": "code",
   "execution_count": 26,
   "metadata": {},
   "outputs": [
    {
     "name": "stdout",
     "output_type": "stream",
     "text": [
      "0.3176721950 : 0.2167565718 (enemy_p2: 0.3176721940, enemy_p3: 1.0000000000) *\n",
      "0.3176721960 : 0.2167565722 (enemy_p2: 0.3176721950, enemy_p3: 1.0000000000) *\n"
     ]
    }
   ],
   "source": [
    "test_through_p1_range(0.317672195, 0.3176721968, 0.000000001, 100, [[0.317672191,0.317672204], [0.9999999,1]], [[0.317672191,0.317672204], [0.9999999,1]])"
   ]
  },
  {
   "cell_type": "code",
   "execution_count": 27,
   "metadata": {},
   "outputs": [
    {
     "data": {
      "text/plain": [
       "[0.21876, 0.46422, 0.31702]"
      ]
     },
     "execution_count": 27,
     "metadata": {},
     "output_type": "execute_result"
    }
   ],
   "source": [
    "simulate_win_probabilities([0.3176721964, 0.3176721962, 0.3176721963], 100000)"
   ]
  },
  {
   "cell_type": "code",
   "execution_count": null,
   "metadata": {},
   "outputs": [],
   "source": []
  }
 ],
 "metadata": {
  "kernelspec": {
   "display_name": "Python 3",
   "language": "python",
   "name": "python3"
  },
  "language_info": {
   "codemirror_mode": {
    "name": "ipython",
    "version": 3
   },
   "file_extension": ".py",
   "mimetype": "text/x-python",
   "name": "python",
   "nbconvert_exporter": "python",
   "pygments_lexer": "ipython3",
   "version": "3.7.5"
  }
 },
 "nbformat": 4,
 "nbformat_minor": 4
}

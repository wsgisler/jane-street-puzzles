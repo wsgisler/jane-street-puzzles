{
 "cells": [
  {
   "cell_type": "markdown",
   "metadata": {},
   "source": [
    "# Jane Street Puzzle - April 2021\n",
    "\n",
    "The original problem statement can be found here: https://www.janestreet.com/puzzles/bracketology-101-index/\n",
    "\n",
    "A solution by Walter Sebastian Gisler, April 2021\n",
    "\n",
    "## Problem Statement: Bracketology 101\n",
    "\n",
    "There’s a certain insanity in the air this time of the year that gets us thinking about tournament brackets.  Consider a tournament with 16 competitors, seeded 1-16, and arranged in the single-elimination bracket pictured below (identical to a “region” of the NCAA Division 1 basketball tournament). Assume that when the X-seed plays the Y-seed, the X-seed has a Y/(X+Y) probability of winning. E.g. in the first round, the 5-seed has a 12/17 chance of beating the 12-seed.\n",
    "\n",
    "Suppose the 2-seed has the chance to secretly swap two teams’ placements in the bracket before the tournament begins. So, for example, say they choose to swap the 8- and 16-seeds. Then the 8-seed would play their first game against the 1-seed and have a 1/9 chance of advancing to the next round, and the 16-seed would play their first game against the 9-seed and have a 9/25 chance of advancing.\n",
    "\n",
    "What seeds should the 2-seed swap to maximize their (the 2-seed’s) probability of winning the tournament, and how much does the swap increase that probability? Give your answer to six significant figures.\n",
    "\n",
    "![Matchups](bracketology.png)"
   ]
  },
  {
   "cell_type": "markdown",
   "metadata": {},
   "source": [
    "## Solution\n",
    "\n",
    "Let's first start by creating a method that returns the probability of a team winning a specific matchup:"
   ]
  },
  {
   "cell_type": "code",
   "execution_count": 1,
   "metadata": {},
   "outputs": [],
   "source": [
    "def win_probability(team_a, team_b):\n",
    "    \"\"\"\n",
    "    Returns the probability of team_a winning a competition agains team_b\n",
    "    team_a and team_b are the seeding position of the corresponding team\n",
    "    \"\"\"\n",
    "    return team_b/(team_a+team_b)"
   ]
  },
  {
   "cell_type": "markdown",
   "metadata": {},
   "source": [
    "Next, we will formalize the elimination structure of the tournament depicted above. I will represent the tournament structure as a tree. The final match will be the root of this tree and every node in the tree is either a match (in which case this node has two child nodes) or a team (no further child nodes - it is simply an int, giving the seeding position of this team)."
   ]
  },
  {
   "cell_type": "code",
   "execution_count": 2,
   "metadata": {},
   "outputs": [],
   "source": [
    "class Match:\n",
    "    def __init__(self, team_a, team_b):\n",
    "        self.team_a = team_a\n",
    "        self.team_b = team_b"
   ]
  },
  {
   "cell_type": "markdown",
   "metadata": {},
   "source": [
    "Using this match class, which is simply a binary tree node, we can easily express the structure of the tournament:"
   ]
  },
  {
   "cell_type": "code",
   "execution_count": 3,
   "metadata": {},
   "outputs": [],
   "source": [
    "tournament = Match(\n",
    "    Match(\n",
    "        Match(\n",
    "            Match(1,16),\n",
    "            Match(8,9)\n",
    "        ),\n",
    "        Match(\n",
    "            Match(5,12),\n",
    "            Match(4,13)\n",
    "        )\n",
    "    ),\n",
    "    Match(\n",
    "        Match(\n",
    "            Match(6,11),\n",
    "            Match(3,14)\n",
    "        ),\n",
    "        Match(\n",
    "            Match(7,10),\n",
    "            Match(2,15)\n",
    "        )\n",
    "    )\n",
    ")"
   ]
  },
  {
   "cell_type": "markdown",
   "metadata": {},
   "source": [
    "I am also adding a method that allows us to simulate the tournament. This will allow us to verify a theoritical result later on."
   ]
  },
  {
   "cell_type": "code",
   "execution_count": 4,
   "metadata": {},
   "outputs": [],
   "source": [
    "from random import random\n",
    "\n",
    "def simulate_once(match):\n",
    "    if isinstance(match.team_a, Match):\n",
    "        team_a = simulate_once(match.team_a)\n",
    "    else:\n",
    "        team_a = match.team_a\n",
    "    if isinstance(match.team_b, Match):\n",
    "        team_b = simulate_once(match.team_b)\n",
    "    else:\n",
    "        team_b = match.team_b\n",
    "    p = win_probability(team_a, team_b)\n",
    "    if random() <= p:\n",
    "        return team_a\n",
    "    else:\n",
    "        return team_b\n",
    "    \n",
    "def simulate(match, n = 10000):\n",
    "    winners = dict()\n",
    "    for i in range(n):\n",
    "        winner = simulate_once(match)\n",
    "        if winner in winners:\n",
    "            winners[winner] += 1\n",
    "        else:\n",
    "            winners[winner] = 1\n",
    "    return {winner: winners[winner]/n for winner in winners}"
   ]
  },
  {
   "cell_type": "code",
   "execution_count": 5,
   "metadata": {},
   "outputs": [
    {
     "data": {
      "text/plain": [
       "{2: 0.215715,\n",
       " 3: 0.106873,\n",
       " 7: 0.014131,\n",
       " 1: 0.519507,\n",
       " 4: 0.056681,\n",
       " 6: 0.021807,\n",
       " 8: 0.008555,\n",
       " 11: 0.003631,\n",
       " 5: 0.033633,\n",
       " 12: 0.002675,\n",
       " 9: 0.006216,\n",
       " 15: 0.001214,\n",
       " 10: 0.004768,\n",
       " 14: 0.001606,\n",
       " 16: 0.00093,\n",
       " 13: 0.002058}"
      ]
     },
     "execution_count": 5,
     "metadata": {},
     "output_type": "execute_result"
    }
   ],
   "source": [
    "simulate(tournament, 1000000)"
   ]
  },
  {
   "cell_type": "markdown",
   "metadata": {},
   "source": [
    "In the next step we will add a method that will calculate the exact probability of each team winning the competition."
   ]
  },
  {
   "cell_type": "code",
   "execution_count": 6,
   "metadata": {},
   "outputs": [],
   "source": [
    "def calculate_probabilities(match):\n",
    "    if isinstance(match.team_a, Match):\n",
    "        team_a = calculate_probabilities(match.team_a)\n",
    "    else:\n",
    "        team_a = {match.team_a: 1}\n",
    "    if isinstance(match.team_b, Match):\n",
    "        team_b = calculate_probabilities(match.team_b)\n",
    "    else:\n",
    "        team_b = {match.team_b: 1}\n",
    "    result = dict()\n",
    "    for t in team_a:\n",
    "        result[t] = team_a[t]*sum([win_probability(t, t2)*team_b[t2] for t2 in team_b])\n",
    "    for t in team_b:\n",
    "        result[t] = team_b[t]*sum([win_probability(t, t2)*team_a[t2] for t2 in team_a])\n",
    "    return result"
   ]
  },
  {
   "cell_type": "markdown",
   "metadata": {},
   "source": [
    "Let's now caculate the probability of team 2 winning the tournament (before there are any swaps):"
   ]
  },
  {
   "cell_type": "code",
   "execution_count": 7,
   "metadata": {},
   "outputs": [
    {
     "name": "stdout",
     "output_type": "stream",
     "text": [
      "Probability of team 2 winning the tournament 0.21603969\n"
     ]
    }
   ],
   "source": [
    "probabilities = calculate_probabilities(tournament)\n",
    "print('Probability of team 2 winning the tournament %1.8f'%probabilities[2])"
   ]
  },
  {
   "cell_type": "markdown",
   "metadata": {},
   "source": [
    "If there is no swap, the probability of team 2 winning the tournament is aboout 21.6%"
   ]
  },
  {
   "cell_type": "markdown",
   "metadata": {},
   "source": [
    "We now just need to try out every possible swap and keep track of the probability of team 2 winning. To do this, we will set up the tournament structure in a way that allows us to modify it easier and then we will use ```combinations``` from ```itertools``` to test out every possible swap:"
   ]
  },
  {
   "cell_type": "code",
   "execution_count": 8,
   "metadata": {},
   "outputs": [
    {
     "name": "stdout",
     "output_type": "stream",
     "text": [
      "Original probability: 0.21603968781701652\n",
      "Found a better solution with p = 0.22040336 (after swapping seeds 8 and 1)\n",
      "Found a better solution with p = 0.22092167 (after swapping seeds 9 and 1)\n",
      "Found a better solution with p = 0.22374757 (after swapping seeds 5 and 1)\n",
      "Found a better solution with p = 0.23434027 (after swapping seeds 12 and 1)\n",
      "Found a better solution with p = 0.23666489 (after swapping seeds 13 and 1)\n",
      "Found a better solution with p = 0.23969153 (after swapping seeds 14 and 1)\n",
      "Found a better solution with p = 0.28161919 (after swapping seeds 3 and 16)\n",
      "Overall increase: 0.06557950370257645\n"
     ]
    }
   ],
   "source": [
    "from itertools import combinations\n",
    "\n",
    "def return_tournament(seeds):\n",
    "    return Match(\n",
    "        Match(\n",
    "            Match(Match(seeds.pop(),seeds.pop()),Match(seeds.pop(),seeds.pop())),\n",
    "            Match(Match(seeds.pop(),seeds.pop()),Match(seeds.pop(),seeds.pop()))\n",
    "        ),\n",
    "        Match(\n",
    "            Match(Match(seeds.pop(),seeds.pop()),Match(seeds.pop(),seeds.pop())),\n",
    "            Match(Match(seeds.pop(),seeds.pop()),Match(seeds.pop(),seeds.pop()))\n",
    "        )\n",
    "    )\n",
    "\n",
    "a = [1,16,8,9,5,12,4,13,6,11,3,14,7,10,2,15]\n",
    "\n",
    "best_p = calculate_probabilities(return_tournament(a[:]))[2] # Initialize best probability with the original probability of team 2 winning the tournament (no swap)\n",
    "best_p_a = 0\n",
    "best_p_b = 0\n",
    "\n",
    "op = best_p\n",
    "print('Original probability:', op)\n",
    "\n",
    "for comb in combinations(list(range(16)),2):\n",
    "    seeds = a[:]\n",
    "    seeds[comb[0]] = a[comb[1]]\n",
    "    seeds[comb[1]] = a[comb[0]]\n",
    "    tournament = return_tournament(seeds)\n",
    "    p = calculate_probabilities(tournament)[2]\n",
    "    if p > best_p:\n",
    "        best_p = p\n",
    "        best_p_a = a[comb[1]]\n",
    "        best_p_b = a[comb[0]]\n",
    "        print('Found a better solution with p = %1.8f (after swapping seeds %i and %i)'%(p, best_p_a, best_p_b))\n",
    "    \n",
    "print('Overall increase:' ,(best_p-op))"
   ]
  },
  {
   "cell_type": "code",
   "execution_count": null,
   "metadata": {},
   "outputs": [],
   "source": []
  }
 ],
 "metadata": {
  "kernelspec": {
   "display_name": "Python 3",
   "language": "python",
   "name": "python3"
  },
  "language_info": {
   "codemirror_mode": {
    "name": "ipython",
    "version": 3
   },
   "file_extension": ".py",
   "mimetype": "text/x-python",
   "name": "python",
   "nbconvert_exporter": "python",
   "pygments_lexer": "ipython3",
   "version": "3.7.5"
  }
 },
 "nbformat": 4,
 "nbformat_minor": 4
}
